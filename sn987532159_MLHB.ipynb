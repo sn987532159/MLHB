{
 "cells": [
  {
   "cell_type": "markdown",
   "metadata": {},
   "source": [
    "# Mammographic Mass Dataset"
   ]
  },
  {
   "cell_type": "code",
   "execution_count": 1,
   "metadata": {},
   "outputs": [
    {
     "name": "stdout",
     "output_type": "stream",
     "text": [
      "Requirement already satisfied: imbalanced-learn in /anaconda3/lib/python3.7/site-packages (0.6.2)\n",
      "Requirement already satisfied: numpy>=1.11 in /anaconda3/lib/python3.7/site-packages (from imbalanced-learn) (1.16.4)\n",
      "Requirement already satisfied: joblib>=0.11 in /anaconda3/lib/python3.7/site-packages (from imbalanced-learn) (0.13.2)\n",
      "Requirement already satisfied: scikit-learn>=0.22 in /anaconda3/lib/python3.7/site-packages (from imbalanced-learn) (0.22.2.post1)\n",
      "Requirement already satisfied: scipy>=0.17 in /anaconda3/lib/python3.7/site-packages (from imbalanced-learn) (1.3.0)\n"
     ]
    }
   ],
   "source": [
    "import pandas as pd\n",
    "import numpy as np\n",
    "from sklearn.preprocessing import StandardScaler\n",
    "import matplotlib.pyplot as plt\n",
    "from matplotlib.pyplot import figure\n",
    "import seaborn as sns\n",
    "from mpl_toolkits.mplot3d import Axes3D\n",
    "%matplotlib inline\n",
    "from sklearn.model_selection import train_test_split\n",
    "from collections import Counter\n",
    "\n",
    "!pip install imbalanced-learn\n",
    "from imblearn.over_sampling import SMOTE\n",
    "from sklearn.metrics import roc_auc_score, roc_curve, auc\n",
    "from sklearn.base import clone\n",
    "from itertools import combinations\n",
    "\n",
    "from sklearn.metrics import classification_report, confusion_matrix\n",
    "from sklearn import metrics\n",
    "\n",
    "from sklearn.tree import DecisionTreeClassifier\n",
    "from sklearn.svm import SVC\n",
    "from sklearn.model_selection import GridSearchCV"
   ]
  },
  {
   "cell_type": "markdown",
   "metadata": {},
   "source": [
    "## Data Importing, Cleansing & Preprocessing"
   ]
  },
  {
   "cell_type": "code",
   "execution_count": 2,
   "metadata": {},
   "outputs": [],
   "source": [
    "url_mammo = 'http://archive.ics.uci.edu/ml/machine-learning-databases/mammographic-masses/mammographic_masses.data'\n",
    "\n",
    "columns = ['Assessment', 'Age', 'Shape', 'Margin', 'Density', 'Severity']\n",
    "\n",
    "df_mammo = pd.read_csv(url_mammo, names = columns, header = None)"
   ]
  },
  {
   "cell_type": "code",
   "execution_count": 3,
   "metadata": {},
   "outputs": [
    {
     "data": {
      "text/html": [
       "<div>\n",
       "<style scoped>\n",
       "    .dataframe tbody tr th:only-of-type {\n",
       "        vertical-align: middle;\n",
       "    }\n",
       "\n",
       "    .dataframe tbody tr th {\n",
       "        vertical-align: top;\n",
       "    }\n",
       "\n",
       "    .dataframe thead th {\n",
       "        text-align: right;\n",
       "    }\n",
       "</style>\n",
       "<table border=\"1\" class=\"dataframe\">\n",
       "  <thead>\n",
       "    <tr style=\"text-align: right;\">\n",
       "      <th></th>\n",
       "      <th>Assessment</th>\n",
       "      <th>Age</th>\n",
       "      <th>Shape</th>\n",
       "      <th>Margin</th>\n",
       "      <th>Density</th>\n",
       "      <th>Severity</th>\n",
       "    </tr>\n",
       "  </thead>\n",
       "  <tbody>\n",
       "    <tr>\n",
       "      <th>0</th>\n",
       "      <td>5</td>\n",
       "      <td>67</td>\n",
       "      <td>3</td>\n",
       "      <td>5</td>\n",
       "      <td>3</td>\n",
       "      <td>1</td>\n",
       "    </tr>\n",
       "    <tr>\n",
       "      <th>1</th>\n",
       "      <td>4</td>\n",
       "      <td>43</td>\n",
       "      <td>1</td>\n",
       "      <td>1</td>\n",
       "      <td>?</td>\n",
       "      <td>1</td>\n",
       "    </tr>\n",
       "    <tr>\n",
       "      <th>2</th>\n",
       "      <td>5</td>\n",
       "      <td>58</td>\n",
       "      <td>4</td>\n",
       "      <td>5</td>\n",
       "      <td>3</td>\n",
       "      <td>1</td>\n",
       "    </tr>\n",
       "    <tr>\n",
       "      <th>3</th>\n",
       "      <td>4</td>\n",
       "      <td>28</td>\n",
       "      <td>1</td>\n",
       "      <td>1</td>\n",
       "      <td>3</td>\n",
       "      <td>0</td>\n",
       "    </tr>\n",
       "    <tr>\n",
       "      <th>4</th>\n",
       "      <td>5</td>\n",
       "      <td>74</td>\n",
       "      <td>1</td>\n",
       "      <td>5</td>\n",
       "      <td>?</td>\n",
       "      <td>1</td>\n",
       "    </tr>\n",
       "  </tbody>\n",
       "</table>\n",
       "</div>"
      ],
      "text/plain": [
       "  Assessment Age Shape Margin Density  Severity\n",
       "0          5  67     3      5       3         1\n",
       "1          4  43     1      1       ?         1\n",
       "2          5  58     4      5       3         1\n",
       "3          4  28     1      1       3         0\n",
       "4          5  74     1      5       ?         1"
      ]
     },
     "execution_count": 3,
     "metadata": {},
     "output_type": "execute_result"
    }
   ],
   "source": [
    "df_mammo.head()"
   ]
  },
  {
   "cell_type": "code",
   "execution_count": 4,
   "metadata": {},
   "outputs": [
    {
     "name": "stdout",
     "output_type": "stream",
     "text": [
      "<class 'pandas.core.frame.DataFrame'>\n",
      "RangeIndex: 961 entries, 0 to 960\n",
      "Data columns (total 6 columns):\n",
      "Assessment    961 non-null object\n",
      "Age           961 non-null object\n",
      "Shape         961 non-null object\n",
      "Margin        961 non-null object\n",
      "Density       961 non-null object\n",
      "Severity      961 non-null int64\n",
      "dtypes: int64(1), object(5)\n",
      "memory usage: 45.1+ KB\n"
     ]
    }
   ],
   "source": [
    "df_mammo.info()"
   ]
  },
  {
   "cell_type": "code",
   "execution_count": 5,
   "metadata": {},
   "outputs": [
    {
     "data": {
      "text/plain": [
       "0    516\n",
       "1    445\n",
       "Name: Severity, dtype: int64"
      ]
     },
     "execution_count": 5,
     "metadata": {},
     "output_type": "execute_result"
    }
   ],
   "source": [
    "df_mammo.Severity.value_counts() # 0 is benign, while 1 is malignant"
   ]
  },
  {
   "cell_type": "markdown",
   "metadata": {},
   "source": [
    "### Imputate Missing Data"
   ]
  },
  {
   "cell_type": "code",
   "execution_count": 6,
   "metadata": {},
   "outputs": [
    {
     "data": {
      "text/plain": [
       "True"
      ]
     },
     "execution_count": 6,
     "metadata": {},
     "output_type": "execute_result"
    }
   ],
   "source": [
    "df_mammo = df_mammo[~df_mammo.isin(['?'])]\n",
    "df_mammo.isna().values.any() #test whether there is any missing data"
   ]
  },
  {
   "cell_type": "code",
   "execution_count": 7,
   "metadata": {},
   "outputs": [
    {
     "data": {
      "text/plain": [
       "Assessment     2\n",
       "Age            5\n",
       "Shape         31\n",
       "Margin        48\n",
       "Density       76\n",
       "Severity       0\n",
       "dtype: int64"
      ]
     },
     "execution_count": 7,
     "metadata": {},
     "output_type": "execute_result"
    }
   ],
   "source": [
    "df_mammo.isna().sum() #count how many missing data each feature has"
   ]
  },
  {
   "cell_type": "code",
   "execution_count": 8,
   "metadata": {},
   "outputs": [
    {
     "data": {
      "text/plain": [
       "4     547\n",
       "5     345\n",
       "3      36\n",
       "2      14\n",
       "6      11\n",
       "0       5\n",
       "55      1\n",
       "Name: Assessment, dtype: int64"
      ]
     },
     "execution_count": 8,
     "metadata": {},
     "output_type": "execute_result"
    }
   ],
   "source": [
    "df_mammo.Assessment.value_counts() #count the number of each value of Assessment"
   ]
  },
  {
   "cell_type": "code",
   "execution_count": 9,
   "metadata": {},
   "outputs": [],
   "source": [
    "df_mammo.Assessment.fillna(value = 4, inplace = True) #impute the missing data with the mode of Assessment"
   ]
  },
  {
   "cell_type": "code",
   "execution_count": 10,
   "metadata": {},
   "outputs": [],
   "source": [
    "df_mammo.Age.fillna(value = df_mammo['Age'].median(), inplace = True) #impute the missing data with the median of Assessment"
   ]
  },
  {
   "cell_type": "code",
   "execution_count": 11,
   "metadata": {},
   "outputs": [
    {
     "data": {
      "text/plain": [
       "4    400\n",
       "1    224\n",
       "2    211\n",
       "3     95\n",
       "Name: Shape, dtype: int64"
      ]
     },
     "execution_count": 11,
     "metadata": {},
     "output_type": "execute_result"
    }
   ],
   "source": [
    "df_mammo.Shape.value_counts() #count the number of each value of Shape"
   ]
  },
  {
   "cell_type": "code",
   "execution_count": 12,
   "metadata": {},
   "outputs": [],
   "source": [
    "df_mammo.Shape.fillna(value = 4, inplace = True) #impute the missing data with the mode of Shape"
   ]
  },
  {
   "cell_type": "code",
   "execution_count": 13,
   "metadata": {},
   "outputs": [
    {
     "data": {
      "text/plain": [
       "1    357\n",
       "4    280\n",
       "5    136\n",
       "3    116\n",
       "2     24\n",
       "Name: Margin, dtype: int64"
      ]
     },
     "execution_count": 13,
     "metadata": {},
     "output_type": "execute_result"
    }
   ],
   "source": [
    "df_mammo.Margin.value_counts() #count the number of each value of Margin"
   ]
  },
  {
   "cell_type": "code",
   "execution_count": 14,
   "metadata": {},
   "outputs": [],
   "source": [
    "df_mammo.Margin.fillna(value = 1, inplace = True) #impute the missing data with the mode of Margin"
   ]
  },
  {
   "cell_type": "code",
   "execution_count": 15,
   "metadata": {},
   "outputs": [
    {
     "data": {
      "text/plain": [
       "3    798\n",
       "2     59\n",
       "1     16\n",
       "4     12\n",
       "Name: Density, dtype: int64"
      ]
     },
     "execution_count": 15,
     "metadata": {},
     "output_type": "execute_result"
    }
   ],
   "source": [
    "df_mammo.Density.value_counts() #count the number of each value of Density"
   ]
  },
  {
   "cell_type": "code",
   "execution_count": 16,
   "metadata": {},
   "outputs": [],
   "source": [
    "df_mammo.Density.fillna(value = 3, inplace = True) #impute the missing data with the mode of Density"
   ]
  },
  {
   "cell_type": "code",
   "execution_count": 17,
   "metadata": {},
   "outputs": [
    {
     "data": {
      "text/plain": [
       "False"
      ]
     },
     "execution_count": 17,
     "metadata": {},
     "output_type": "execute_result"
    }
   ],
   "source": [
    "df_mammo.isna().values.any() #test whether there is any missing data"
   ]
  },
  {
   "cell_type": "markdown",
   "metadata": {},
   "source": [
    "### Convert Data Type"
   ]
  },
  {
   "cell_type": "code",
   "execution_count": 18,
   "metadata": {},
   "outputs": [
    {
     "data": {
      "text/html": [
       "<div>\n",
       "<style scoped>\n",
       "    .dataframe tbody tr th:only-of-type {\n",
       "        vertical-align: middle;\n",
       "    }\n",
       "\n",
       "    .dataframe tbody tr th {\n",
       "        vertical-align: top;\n",
       "    }\n",
       "\n",
       "    .dataframe thead th {\n",
       "        text-align: right;\n",
       "    }\n",
       "</style>\n",
       "<table border=\"1\" class=\"dataframe\">\n",
       "  <thead>\n",
       "    <tr style=\"text-align: right;\">\n",
       "      <th></th>\n",
       "      <th>Assessment</th>\n",
       "      <th>Age</th>\n",
       "      <th>Shape</th>\n",
       "      <th>Margin</th>\n",
       "      <th>Density</th>\n",
       "      <th>Severity</th>\n",
       "    </tr>\n",
       "  </thead>\n",
       "  <tbody>\n",
       "    <tr>\n",
       "      <th>0</th>\n",
       "      <td>5</td>\n",
       "      <td>67</td>\n",
       "      <td>3</td>\n",
       "      <td>5</td>\n",
       "      <td>3</td>\n",
       "      <td>1</td>\n",
       "    </tr>\n",
       "    <tr>\n",
       "      <th>1</th>\n",
       "      <td>4</td>\n",
       "      <td>43</td>\n",
       "      <td>1</td>\n",
       "      <td>1</td>\n",
       "      <td>3</td>\n",
       "      <td>1</td>\n",
       "    </tr>\n",
       "    <tr>\n",
       "      <th>2</th>\n",
       "      <td>5</td>\n",
       "      <td>58</td>\n",
       "      <td>4</td>\n",
       "      <td>5</td>\n",
       "      <td>3</td>\n",
       "      <td>1</td>\n",
       "    </tr>\n",
       "    <tr>\n",
       "      <th>3</th>\n",
       "      <td>4</td>\n",
       "      <td>28</td>\n",
       "      <td>1</td>\n",
       "      <td>1</td>\n",
       "      <td>3</td>\n",
       "      <td>0</td>\n",
       "    </tr>\n",
       "    <tr>\n",
       "      <th>4</th>\n",
       "      <td>5</td>\n",
       "      <td>74</td>\n",
       "      <td>1</td>\n",
       "      <td>5</td>\n",
       "      <td>3</td>\n",
       "      <td>1</td>\n",
       "    </tr>\n",
       "  </tbody>\n",
       "</table>\n",
       "</div>"
      ],
      "text/plain": [
       "   Assessment  Age  Shape  Margin  Density  Severity\n",
       "0           5   67      3       5        3         1\n",
       "1           4   43      1       1        3         1\n",
       "2           5   58      4       5        3         1\n",
       "3           4   28      1       1        3         0\n",
       "4           5   74      1       5        3         1"
      ]
     },
     "execution_count": 18,
     "metadata": {},
     "output_type": "execute_result"
    }
   ],
   "source": [
    "df_mammo['Assessment']=df_mammo['Assessment'].astype('int') #convert the type of each feature to integer\n",
    "df_mammo['Age']=df_mammo['Age'].astype('int')\n",
    "df_mammo['Shape']=df_mammo['Shape'].astype('int')\n",
    "df_mammo['Margin']=df_mammo['Margin'].astype('int')\n",
    "df_mammo['Density']=df_mammo['Density'].astype('int')\n",
    "\n",
    "df_mammo.head()"
   ]
  },
  {
   "cell_type": "code",
   "execution_count": 19,
   "metadata": {},
   "outputs": [
    {
     "name": "stdout",
     "output_type": "stream",
     "text": [
      "<class 'pandas.core.frame.DataFrame'>\n",
      "RangeIndex: 961 entries, 0 to 960\n",
      "Data columns (total 6 columns):\n",
      "Assessment    961 non-null int64\n",
      "Age           961 non-null int64\n",
      "Shape         961 non-null int64\n",
      "Margin        961 non-null int64\n",
      "Density       961 non-null int64\n",
      "Severity      961 non-null int64\n",
      "dtypes: int64(6)\n",
      "memory usage: 45.1 KB\n"
     ]
    }
   ],
   "source": [
    "df_mammo.info()"
   ]
  },
  {
   "cell_type": "code",
   "execution_count": 20,
   "metadata": {},
   "outputs": [
    {
     "data": {
      "text/html": [
       "<div>\n",
       "<style scoped>\n",
       "    .dataframe tbody tr th:only-of-type {\n",
       "        vertical-align: middle;\n",
       "    }\n",
       "\n",
       "    .dataframe tbody tr th {\n",
       "        vertical-align: top;\n",
       "    }\n",
       "\n",
       "    .dataframe thead th {\n",
       "        text-align: right;\n",
       "    }\n",
       "</style>\n",
       "<table border=\"1\" class=\"dataframe\">\n",
       "  <thead>\n",
       "    <tr style=\"text-align: right;\">\n",
       "      <th></th>\n",
       "      <th>Assessment</th>\n",
       "      <th>Age</th>\n",
       "      <th>Shape</th>\n",
       "      <th>Margin</th>\n",
       "      <th>Density</th>\n",
       "      <th>Severity</th>\n",
       "    </tr>\n",
       "  </thead>\n",
       "  <tbody>\n",
       "    <tr>\n",
       "      <th>count</th>\n",
       "      <td>961.000000</td>\n",
       "      <td>961.000000</td>\n",
       "      <td>961.000000</td>\n",
       "      <td>961.000000</td>\n",
       "      <td>961.000000</td>\n",
       "      <td>961.000000</td>\n",
       "    </tr>\n",
       "    <tr>\n",
       "      <th>mean</th>\n",
       "      <td>4.347555</td>\n",
       "      <td>55.495317</td>\n",
       "      <td>2.762747</td>\n",
       "      <td>2.706556</td>\n",
       "      <td>2.917794</td>\n",
       "      <td>0.463059</td>\n",
       "    </tr>\n",
       "    <tr>\n",
       "      <th>std</th>\n",
       "      <td>1.781244</td>\n",
       "      <td>14.442783</td>\n",
       "      <td>1.243276</td>\n",
       "      <td>1.576272</td>\n",
       "      <td>0.365869</td>\n",
       "      <td>0.498893</td>\n",
       "    </tr>\n",
       "    <tr>\n",
       "      <th>min</th>\n",
       "      <td>0.000000</td>\n",
       "      <td>18.000000</td>\n",
       "      <td>1.000000</td>\n",
       "      <td>1.000000</td>\n",
       "      <td>1.000000</td>\n",
       "      <td>0.000000</td>\n",
       "    </tr>\n",
       "    <tr>\n",
       "      <th>25%</th>\n",
       "      <td>4.000000</td>\n",
       "      <td>45.000000</td>\n",
       "      <td>2.000000</td>\n",
       "      <td>1.000000</td>\n",
       "      <td>3.000000</td>\n",
       "      <td>0.000000</td>\n",
       "    </tr>\n",
       "    <tr>\n",
       "      <th>50%</th>\n",
       "      <td>4.000000</td>\n",
       "      <td>57.000000</td>\n",
       "      <td>3.000000</td>\n",
       "      <td>3.000000</td>\n",
       "      <td>3.000000</td>\n",
       "      <td>0.000000</td>\n",
       "    </tr>\n",
       "    <tr>\n",
       "      <th>75%</th>\n",
       "      <td>5.000000</td>\n",
       "      <td>66.000000</td>\n",
       "      <td>4.000000</td>\n",
       "      <td>4.000000</td>\n",
       "      <td>3.000000</td>\n",
       "      <td>1.000000</td>\n",
       "    </tr>\n",
       "    <tr>\n",
       "      <th>max</th>\n",
       "      <td>55.000000</td>\n",
       "      <td>96.000000</td>\n",
       "      <td>4.000000</td>\n",
       "      <td>5.000000</td>\n",
       "      <td>4.000000</td>\n",
       "      <td>1.000000</td>\n",
       "    </tr>\n",
       "  </tbody>\n",
       "</table>\n",
       "</div>"
      ],
      "text/plain": [
       "       Assessment         Age       Shape      Margin     Density    Severity\n",
       "count  961.000000  961.000000  961.000000  961.000000  961.000000  961.000000\n",
       "mean     4.347555   55.495317    2.762747    2.706556    2.917794    0.463059\n",
       "std      1.781244   14.442783    1.243276    1.576272    0.365869    0.498893\n",
       "min      0.000000   18.000000    1.000000    1.000000    1.000000    0.000000\n",
       "25%      4.000000   45.000000    2.000000    1.000000    3.000000    0.000000\n",
       "50%      4.000000   57.000000    3.000000    3.000000    3.000000    0.000000\n",
       "75%      5.000000   66.000000    4.000000    4.000000    3.000000    1.000000\n",
       "max     55.000000   96.000000    4.000000    5.000000    4.000000    1.000000"
      ]
     },
     "execution_count": 20,
     "metadata": {},
     "output_type": "execute_result"
    }
   ],
   "source": [
    "df_mammo.describe()"
   ]
  },
  {
   "cell_type": "markdown",
   "metadata": {},
   "source": [
    "### Feature engineering - Standardise Continuous Feature"
   ]
  },
  {
   "cell_type": "code",
   "execution_count": 21,
   "metadata": {},
   "outputs": [
    {
     "data": {
      "text/html": [
       "<div>\n",
       "<style scoped>\n",
       "    .dataframe tbody tr th:only-of-type {\n",
       "        vertical-align: middle;\n",
       "    }\n",
       "\n",
       "    .dataframe tbody tr th {\n",
       "        vertical-align: top;\n",
       "    }\n",
       "\n",
       "    .dataframe thead th {\n",
       "        text-align: right;\n",
       "    }\n",
       "</style>\n",
       "<table border=\"1\" class=\"dataframe\">\n",
       "  <thead>\n",
       "    <tr style=\"text-align: right;\">\n",
       "      <th></th>\n",
       "      <th>Assessment</th>\n",
       "      <th>Age</th>\n",
       "      <th>Age_ss</th>\n",
       "      <th>Shape</th>\n",
       "      <th>Margin</th>\n",
       "      <th>Density</th>\n",
       "      <th>Severity</th>\n",
       "    </tr>\n",
       "  </thead>\n",
       "  <tbody>\n",
       "  </tbody>\n",
       "</table>\n",
       "</div>"
      ],
      "text/plain": [
       "Empty DataFrame\n",
       "Columns: [Assessment, Age, Age_ss, Shape, Margin, Density, Severity]\n",
       "Index: []"
      ]
     },
     "execution_count": 21,
     "metadata": {},
     "output_type": "execute_result"
    }
   ],
   "source": [
    "s_scaler = StandardScaler()\n",
    "Age_ss = s_scaler.fit_transform(df_mammo[['Age']])\n",
    "df_mammo.insert(2, 'Age_ss', Age_ss)\n",
    "\n",
    "mean_age = df_mammo['Age_ss'].mean()\n",
    "std_age = df_mammo['Age_ss'].std()\n",
    "\n",
    "cut_off = std_age * 3\n",
    "\n",
    "upper, lower = mean_age + cut_off , mean_age - cut_off\n",
    "\n",
    "age_3σ = df_mammo[(df_mammo['Age_ss'] > upper) & (df_mammo['Age_ss'] < lower) ] # to see whether there is any outlier within Age column when Standard Deviation (σ) is 3\n",
    "age_3σ # age_3σ is empty -> Age_ss has no outliers"
   ]
  },
  {
   "cell_type": "code",
   "execution_count": 22,
   "metadata": {},
   "outputs": [
    {
     "name": "stderr",
     "output_type": "stream",
     "text": [
      "//anaconda3/lib/python3.7/site-packages/ipykernel_launcher.py:1: DeprecationWarning: elementwise comparison failed; this will raise an error in the future.\n",
      "  \"\"\"Entry point for launching an IPython kernel.\n"
     ]
    },
    {
     "data": {
      "text/plain": [
       "False"
      ]
     },
     "execution_count": 22,
     "metadata": {},
     "output_type": "execute_result"
    }
   ],
   "source": [
    "age_3σ.values in df_mammo['Age_ss'].values # Make sure Age_ss has no outliers"
   ]
  },
  {
   "cell_type": "markdown",
   "metadata": {},
   "source": [
    "### Feature engineering - Remove and Fix Outliers"
   ]
  },
  {
   "cell_type": "code",
   "execution_count": 23,
   "metadata": {},
   "outputs": [
    {
     "data": {
      "text/plain": [
       "array([ 5,  4,  3,  2, 55,  0,  6])"
      ]
     },
     "execution_count": 23,
     "metadata": {},
     "output_type": "execute_result"
    }
   ],
   "source": [
    "df_mammo.Assessment.unique() #see what values df_mammo.Assessment has"
   ]
  },
  {
   "cell_type": "code",
   "execution_count": 24,
   "metadata": {
    "scrolled": true
   },
   "outputs": [
    {
     "data": {
      "text/plain": [
       "4     549\n",
       "5     345\n",
       "3      36\n",
       "2      14\n",
       "6      11\n",
       "0       5\n",
       "55      1\n",
       "Name: Assessment, dtype: int64"
      ]
     },
     "execution_count": 24,
     "metadata": {},
     "output_type": "execute_result"
    }
   ],
   "source": [
    "df_mammo.Assessment.value_counts() "
   ]
  },
  {
   "cell_type": "code",
   "execution_count": 25,
   "metadata": {},
   "outputs": [
    {
     "name": "stdout",
     "output_type": "stream",
     "text": [
      "Int64Index([340], dtype='int64')\n"
     ]
    }
   ],
   "source": [
    "print(df_mammo[df_mammo.Assessment== 55].index) #replace 55 with 5\n",
    "df_mammo.iloc[340,0]=5"
   ]
  },
  {
   "cell_type": "code",
   "execution_count": 26,
   "metadata": {},
   "outputs": [],
   "source": [
    "mask_1 = df_mammo[df_mammo.Assessment== 0 ] \n",
    "mask_2 = df_mammo[df_mammo.Assessment== 6 ]"
   ]
  },
  {
   "cell_type": "code",
   "execution_count": 27,
   "metadata": {},
   "outputs": [
    {
     "data": {
      "text/html": [
       "<div>\n",
       "<style scoped>\n",
       "    .dataframe tbody tr th:only-of-type {\n",
       "        vertical-align: middle;\n",
       "    }\n",
       "\n",
       "    .dataframe tbody tr th {\n",
       "        vertical-align: top;\n",
       "    }\n",
       "\n",
       "    .dataframe thead th {\n",
       "        text-align: right;\n",
       "    }\n",
       "</style>\n",
       "<table border=\"1\" class=\"dataframe\">\n",
       "  <thead>\n",
       "    <tr style=\"text-align: right;\">\n",
       "      <th></th>\n",
       "      <th>Assessment</th>\n",
       "      <th>Age</th>\n",
       "      <th>Age_ss</th>\n",
       "      <th>Shape</th>\n",
       "      <th>Margin</th>\n",
       "      <th>Density</th>\n",
       "      <th>Severity</th>\n",
       "    </tr>\n",
       "  </thead>\n",
       "  <tbody>\n",
       "    <tr>\n",
       "      <th>456</th>\n",
       "      <td>0</td>\n",
       "      <td>69</td>\n",
       "      <td>0.935534</td>\n",
       "      <td>4</td>\n",
       "      <td>5</td>\n",
       "      <td>3</td>\n",
       "      <td>1</td>\n",
       "    </tr>\n",
       "    <tr>\n",
       "      <th>533</th>\n",
       "      <td>0</td>\n",
       "      <td>58</td>\n",
       "      <td>0.173511</td>\n",
       "      <td>4</td>\n",
       "      <td>4</td>\n",
       "      <td>3</td>\n",
       "      <td>0</td>\n",
       "    </tr>\n",
       "    <tr>\n",
       "      <th>799</th>\n",
       "      <td>0</td>\n",
       "      <td>72</td>\n",
       "      <td>1.143358</td>\n",
       "      <td>4</td>\n",
       "      <td>3</td>\n",
       "      <td>3</td>\n",
       "      <td>1</td>\n",
       "    </tr>\n",
       "    <tr>\n",
       "      <th>893</th>\n",
       "      <td>0</td>\n",
       "      <td>45</td>\n",
       "      <td>-0.727061</td>\n",
       "      <td>2</td>\n",
       "      <td>4</td>\n",
       "      <td>3</td>\n",
       "      <td>0</td>\n",
       "    </tr>\n",
       "    <tr>\n",
       "      <th>950</th>\n",
       "      <td>0</td>\n",
       "      <td>71</td>\n",
       "      <td>1.074084</td>\n",
       "      <td>4</td>\n",
       "      <td>4</td>\n",
       "      <td>3</td>\n",
       "      <td>1</td>\n",
       "    </tr>\n",
       "    <tr>\n",
       "      <th>550</th>\n",
       "      <td>6</td>\n",
       "      <td>80</td>\n",
       "      <td>1.697557</td>\n",
       "      <td>4</td>\n",
       "      <td>5</td>\n",
       "      <td>3</td>\n",
       "      <td>1</td>\n",
       "    </tr>\n",
       "    <tr>\n",
       "      <th>664</th>\n",
       "      <td>6</td>\n",
       "      <td>60</td>\n",
       "      <td>0.312061</td>\n",
       "      <td>3</td>\n",
       "      <td>5</td>\n",
       "      <td>3</td>\n",
       "      <td>1</td>\n",
       "    </tr>\n",
       "    <tr>\n",
       "      <th>692</th>\n",
       "      <td>6</td>\n",
       "      <td>51</td>\n",
       "      <td>-0.311412</td>\n",
       "      <td>4</td>\n",
       "      <td>4</td>\n",
       "      <td>3</td>\n",
       "      <td>1</td>\n",
       "    </tr>\n",
       "    <tr>\n",
       "      <th>707</th>\n",
       "      <td>6</td>\n",
       "      <td>41</td>\n",
       "      <td>-1.004160</td>\n",
       "      <td>2</td>\n",
       "      <td>1</td>\n",
       "      <td>3</td>\n",
       "      <td>0</td>\n",
       "    </tr>\n",
       "    <tr>\n",
       "      <th>717</th>\n",
       "      <td>6</td>\n",
       "      <td>71</td>\n",
       "      <td>1.074084</td>\n",
       "      <td>4</td>\n",
       "      <td>4</td>\n",
       "      <td>3</td>\n",
       "      <td>1</td>\n",
       "    </tr>\n",
       "    <tr>\n",
       "      <th>718</th>\n",
       "      <td>6</td>\n",
       "      <td>68</td>\n",
       "      <td>0.866259</td>\n",
       "      <td>4</td>\n",
       "      <td>3</td>\n",
       "      <td>3</td>\n",
       "      <td>1</td>\n",
       "    </tr>\n",
       "    <tr>\n",
       "      <th>745</th>\n",
       "      <td>6</td>\n",
       "      <td>76</td>\n",
       "      <td>1.420457</td>\n",
       "      <td>3</td>\n",
       "      <td>1</td>\n",
       "      <td>3</td>\n",
       "      <td>0</td>\n",
       "    </tr>\n",
       "    <tr>\n",
       "      <th>784</th>\n",
       "      <td>6</td>\n",
       "      <td>63</td>\n",
       "      <td>0.519885</td>\n",
       "      <td>1</td>\n",
       "      <td>1</td>\n",
       "      <td>3</td>\n",
       "      <td>0</td>\n",
       "    </tr>\n",
       "    <tr>\n",
       "      <th>824</th>\n",
       "      <td>6</td>\n",
       "      <td>40</td>\n",
       "      <td>-1.073435</td>\n",
       "      <td>4</td>\n",
       "      <td>3</td>\n",
       "      <td>4</td>\n",
       "      <td>1</td>\n",
       "    </tr>\n",
       "    <tr>\n",
       "      <th>832</th>\n",
       "      <td>6</td>\n",
       "      <td>72</td>\n",
       "      <td>1.143358</td>\n",
       "      <td>4</td>\n",
       "      <td>3</td>\n",
       "      <td>3</td>\n",
       "      <td>1</td>\n",
       "    </tr>\n",
       "    <tr>\n",
       "      <th>889</th>\n",
       "      <td>6</td>\n",
       "      <td>41</td>\n",
       "      <td>-1.004160</td>\n",
       "      <td>3</td>\n",
       "      <td>3</td>\n",
       "      <td>2</td>\n",
       "      <td>1</td>\n",
       "    </tr>\n",
       "  </tbody>\n",
       "</table>\n",
       "</div>"
      ],
      "text/plain": [
       "     Assessment  Age    Age_ss  Shape  Margin  Density  Severity\n",
       "456           0   69  0.935534      4       5        3         1\n",
       "533           0   58  0.173511      4       4        3         0\n",
       "799           0   72  1.143358      4       3        3         1\n",
       "893           0   45 -0.727061      2       4        3         0\n",
       "950           0   71  1.074084      4       4        3         1\n",
       "550           6   80  1.697557      4       5        3         1\n",
       "664           6   60  0.312061      3       5        3         1\n",
       "692           6   51 -0.311412      4       4        3         1\n",
       "707           6   41 -1.004160      2       1        3         0\n",
       "717           6   71  1.074084      4       4        3         1\n",
       "718           6   68  0.866259      4       3        3         1\n",
       "745           6   76  1.420457      3       1        3         0\n",
       "784           6   63  0.519885      1       1        3         0\n",
       "824           6   40 -1.073435      4       3        4         1\n",
       "832           6   72  1.143358      4       3        3         1\n",
       "889           6   41 -1.004160      3       3        2         1"
      ]
     },
     "execution_count": 27,
     "metadata": {},
     "output_type": "execute_result"
    }
   ],
   "source": [
    "mask = pd.concat([mask_1, mask_2]) #delete observations with df_mammo.Assessment being 0 and 6\n",
    "mask"
   ]
  },
  {
   "cell_type": "code",
   "execution_count": 28,
   "metadata": {},
   "outputs": [
    {
     "data": {
      "text/plain": [
       "16"
      ]
     },
     "execution_count": 28,
     "metadata": {},
     "output_type": "execute_result"
    }
   ],
   "source": [
    "len(mask)"
   ]
  },
  {
   "cell_type": "code",
   "execution_count": 29,
   "metadata": {},
   "outputs": [
    {
     "data": {
      "text/plain": [
       "array([5, 4, 3, 2])"
      ]
     },
     "execution_count": 29,
     "metadata": {},
     "output_type": "execute_result"
    }
   ],
   "source": [
    "mask_index = mask.index\n",
    "df_mammo_dropped = df_mammo.drop(index = mask_index).drop(columns = 'Age') # dropping Age column is because it is principally same as Age_ss\n",
    "\n",
    "df_mammo_dropped.Assessment.unique() #see what values df_mammo.Assessment has"
   ]
  },
  {
   "cell_type": "code",
   "execution_count": 30,
   "metadata": {},
   "outputs": [
    {
     "data": {
      "text/html": [
       "<div>\n",
       "<style scoped>\n",
       "    .dataframe tbody tr th:only-of-type {\n",
       "        vertical-align: middle;\n",
       "    }\n",
       "\n",
       "    .dataframe tbody tr th {\n",
       "        vertical-align: top;\n",
       "    }\n",
       "\n",
       "    .dataframe thead th {\n",
       "        text-align: right;\n",
       "    }\n",
       "</style>\n",
       "<table border=\"1\" class=\"dataframe\">\n",
       "  <thead>\n",
       "    <tr style=\"text-align: right;\">\n",
       "      <th></th>\n",
       "      <th>Assessment</th>\n",
       "      <th>Age_ss</th>\n",
       "      <th>Shape</th>\n",
       "      <th>Margin</th>\n",
       "      <th>Density</th>\n",
       "      <th>Severity</th>\n",
       "    </tr>\n",
       "  </thead>\n",
       "  <tbody>\n",
       "    <tr>\n",
       "      <th>count</th>\n",
       "      <td>945.000000</td>\n",
       "      <td>945.000000</td>\n",
       "      <td>945.000000</td>\n",
       "      <td>945.000000</td>\n",
       "      <td>945.000000</td>\n",
       "      <td>945.000000</td>\n",
       "    </tr>\n",
       "    <tr>\n",
       "      <th>mean</th>\n",
       "      <td>4.298413</td>\n",
       "      <td>-0.006603</td>\n",
       "      <td>2.752381</td>\n",
       "      <td>2.696296</td>\n",
       "      <td>2.916402</td>\n",
       "      <td>0.459259</td>\n",
       "    </tr>\n",
       "    <tr>\n",
       "      <th>std</th>\n",
       "      <td>0.612241</td>\n",
       "      <td>1.000699</td>\n",
       "      <td>1.245355</td>\n",
       "      <td>1.578402</td>\n",
       "      <td>0.365915</td>\n",
       "      <td>0.498601</td>\n",
       "    </tr>\n",
       "    <tr>\n",
       "      <th>min</th>\n",
       "      <td>2.000000</td>\n",
       "      <td>-2.597480</td>\n",
       "      <td>1.000000</td>\n",
       "      <td>1.000000</td>\n",
       "      <td>1.000000</td>\n",
       "      <td>0.000000</td>\n",
       "    </tr>\n",
       "    <tr>\n",
       "      <th>25%</th>\n",
       "      <td>4.000000</td>\n",
       "      <td>-0.727061</td>\n",
       "      <td>2.000000</td>\n",
       "      <td>1.000000</td>\n",
       "      <td>3.000000</td>\n",
       "      <td>0.000000</td>\n",
       "    </tr>\n",
       "    <tr>\n",
       "      <th>50%</th>\n",
       "      <td>4.000000</td>\n",
       "      <td>0.104237</td>\n",
       "      <td>3.000000</td>\n",
       "      <td>3.000000</td>\n",
       "      <td>3.000000</td>\n",
       "      <td>0.000000</td>\n",
       "    </tr>\n",
       "    <tr>\n",
       "      <th>75%</th>\n",
       "      <td>5.000000</td>\n",
       "      <td>0.727710</td>\n",
       "      <td>4.000000</td>\n",
       "      <td>4.000000</td>\n",
       "      <td>3.000000</td>\n",
       "      <td>1.000000</td>\n",
       "    </tr>\n",
       "    <tr>\n",
       "      <th>max</th>\n",
       "      <td>5.000000</td>\n",
       "      <td>2.805953</td>\n",
       "      <td>4.000000</td>\n",
       "      <td>5.000000</td>\n",
       "      <td>4.000000</td>\n",
       "      <td>1.000000</td>\n",
       "    </tr>\n",
       "  </tbody>\n",
       "</table>\n",
       "</div>"
      ],
      "text/plain": [
       "       Assessment      Age_ss       Shape      Margin     Density    Severity\n",
       "count  945.000000  945.000000  945.000000  945.000000  945.000000  945.000000\n",
       "mean     4.298413   -0.006603    2.752381    2.696296    2.916402    0.459259\n",
       "std      0.612241    1.000699    1.245355    1.578402    0.365915    0.498601\n",
       "min      2.000000   -2.597480    1.000000    1.000000    1.000000    0.000000\n",
       "25%      4.000000   -0.727061    2.000000    1.000000    3.000000    0.000000\n",
       "50%      4.000000    0.104237    3.000000    3.000000    3.000000    0.000000\n",
       "75%      5.000000    0.727710    4.000000    4.000000    3.000000    1.000000\n",
       "max      5.000000    2.805953    4.000000    5.000000    4.000000    1.000000"
      ]
     },
     "execution_count": 30,
     "metadata": {},
     "output_type": "execute_result"
    }
   ],
   "source": [
    "df_mammo_dropped.describe()"
   ]
  },
  {
   "cell_type": "code",
   "execution_count": 31,
   "metadata": {},
   "outputs": [
    {
     "data": {
      "text/plain": [
       "0    511\n",
       "1    434\n",
       "Name: Severity, dtype: int64"
      ]
     },
     "execution_count": 31,
     "metadata": {},
     "output_type": "execute_result"
    }
   ],
   "source": [
    "df_mammo_dropped.Severity.value_counts() # 0 is benign, while 1 is malignant"
   ]
  },
  {
   "cell_type": "markdown",
   "metadata": {},
   "source": [
    "##### Exploratory Data Analysis"
   ]
  },
  {
   "cell_type": "code",
   "execution_count": 32,
   "metadata": {},
   "outputs": [
    {
     "data": {
      "text/plain": [
       "Assessment       AxesSubplot(0.125,0.536818;0.227941x0.343182)\n",
       "Age_ss        AxesSubplot(0.398529,0.536818;0.227941x0.343182)\n",
       "Shape         AxesSubplot(0.672059,0.536818;0.227941x0.343182)\n",
       "Margin              AxesSubplot(0.125,0.125;0.227941x0.343182)\n",
       "Density          AxesSubplot(0.398529,0.125;0.227941x0.343182)\n",
       "Severity         AxesSubplot(0.672059,0.125;0.227941x0.343182)\n",
       "dtype: object"
      ]
     },
     "execution_count": 32,
     "metadata": {},
     "output_type": "execute_result"
    },
    {
     "data": {
      "image/png": "[encoded data removed]",
      "text/plain": [
       "<Figure size 864x720 with 6 Axes>"
      ]
     },
     "metadata": {
      "needs_background": "light"
     },
     "output_type": "display_data"
    }
   ],
   "source": [
    "df_mammo_dropped.plot(kind= 'box' , subplots=True, layout=(2,3), sharex=False, sharey=False, figsize=(12,10))"
   ]
  },
  {
   "cell_type": "code",
   "execution_count": 33,
   "metadata": {},
   "outputs": [
    {
     "data": {
      "text/plain": [
       "array([[<matplotlib.axes._subplots.AxesSubplot object at 0x1a266d28d0>,\n",
       "        <matplotlib.axes._subplots.AxesSubplot object at 0x1a269f5278>],\n",
       "       [<matplotlib.axes._subplots.AxesSubplot object at 0x1a26bb0828>,\n",
       "        <matplotlib.axes._subplots.AxesSubplot object at 0x1a26be2dd8>],\n",
       "       [<matplotlib.axes._subplots.AxesSubplot object at 0x1a26c1f3c8>,\n",
       "        <matplotlib.axes._subplots.AxesSubplot object at 0x1a26c4f978>]],\n",
       "      dtype=object)"
      ]
     },
     "execution_count": 33,
     "metadata": {},
     "output_type": "execute_result"
    },
    {
     "data": {
      "image/png": "[encoded data removed]",
      "text/plain": [
       "<Figure size 864x720 with 6 Axes>"
      ]
     },
     "metadata": {
      "needs_background": "light"
     },
     "output_type": "display_data"
    }
   ],
   "source": [
    "df_mammo_dropped.hist(figsize=(12,10))"
   ]
  },
  {
   "cell_type": "code",
   "execution_count": 34,
   "metadata": {},
   "outputs": [
    {
     "data": {
      "text/html": [
       "<div>\n",
       "<style scoped>\n",
       "    .dataframe tbody tr th:only-of-type {\n",
       "        vertical-align: middle;\n",
       "    }\n",
       "\n",
       "    .dataframe tbody tr th {\n",
       "        vertical-align: top;\n",
       "    }\n",
       "\n",
       "    .dataframe thead th {\n",
       "        text-align: right;\n",
       "    }\n",
       "</style>\n",
       "<table border=\"1\" class=\"dataframe\">\n",
       "  <thead>\n",
       "    <tr style=\"text-align: right;\">\n",
       "      <th></th>\n",
       "      <th>Assessment</th>\n",
       "      <th>Age_ss</th>\n",
       "      <th>Shape</th>\n",
       "      <th>Margin</th>\n",
       "      <th>Density</th>\n",
       "      <th>Severity</th>\n",
       "    </tr>\n",
       "  </thead>\n",
       "  <tbody>\n",
       "    <tr>\n",
       "      <th>Assessment</th>\n",
       "      <td>1.000000</td>\n",
       "      <td>0.345704</td>\n",
       "      <td>0.431851</td>\n",
       "      <td>0.495091</td>\n",
       "      <td>0.087830</td>\n",
       "      <td>0.584687</td>\n",
       "    </tr>\n",
       "    <tr>\n",
       "      <th>Age_ss</th>\n",
       "      <td>0.345704</td>\n",
       "      <td>1.000000</td>\n",
       "      <td>0.354701</td>\n",
       "      <td>0.391047</td>\n",
       "      <td>0.020161</td>\n",
       "      <td>0.432467</td>\n",
       "    </tr>\n",
       "    <tr>\n",
       "      <th>Shape</th>\n",
       "      <td>0.431851</td>\n",
       "      <td>0.354701</td>\n",
       "      <td>1.000000</td>\n",
       "      <td>0.716177</td>\n",
       "      <td>0.042862</td>\n",
       "      <td>0.536483</td>\n",
       "    </tr>\n",
       "    <tr>\n",
       "      <th>Margin</th>\n",
       "      <td>0.495091</td>\n",
       "      <td>0.391047</td>\n",
       "      <td>0.716177</td>\n",
       "      <td>1.000000</td>\n",
       "      <td>0.084384</td>\n",
       "      <td>0.569114</td>\n",
       "    </tr>\n",
       "    <tr>\n",
       "      <th>Density</th>\n",
       "      <td>0.087830</td>\n",
       "      <td>0.020161</td>\n",
       "      <td>0.042862</td>\n",
       "      <td>0.084384</td>\n",
       "      <td>1.000000</td>\n",
       "      <td>0.053890</td>\n",
       "    </tr>\n",
       "    <tr>\n",
       "      <th>Severity</th>\n",
       "      <td>0.584687</td>\n",
       "      <td>0.432467</td>\n",
       "      <td>0.536483</td>\n",
       "      <td>0.569114</td>\n",
       "      <td>0.053890</td>\n",
       "      <td>1.000000</td>\n",
       "    </tr>\n",
       "  </tbody>\n",
       "</table>\n",
       "</div>"
      ],
      "text/plain": [
       "            Assessment    Age_ss     Shape    Margin   Density  Severity\n",
       "Assessment    1.000000  0.345704  0.431851  0.495091  0.087830  0.584687\n",
       "Age_ss        0.345704  1.000000  0.354701  0.391047  0.020161  0.432467\n",
       "Shape         0.431851  0.354701  1.000000  0.716177  0.042862  0.536483\n",
       "Margin        0.495091  0.391047  0.716177  1.000000  0.084384  0.569114\n",
       "Density       0.087830  0.020161  0.042862  0.084384  1.000000  0.053890\n",
       "Severity      0.584687  0.432467  0.536483  0.569114  0.053890  1.000000"
      ]
     },
     "execution_count": 34,
     "metadata": {},
     "output_type": "execute_result"
    }
   ],
   "source": [
    "corr = df_mammo_dropped.corr()\n",
    "corr"
   ]
  },
  {
   "cell_type": "code",
   "execution_count": 35,
   "metadata": {},
   "outputs": [],
   "source": [
    "plt.rcParams['figure.figsize']=(10,5)"
   ]
  },
  {
   "cell_type": "code",
   "execution_count": 36,
   "metadata": {},
   "outputs": [
    {
     "data": {
      "text/plain": [
       "Text(0.5, 1, 'Correlation Matrix for Mammographic Mass Dataset')"
      ]
     },
     "execution_count": 36,
     "metadata": {},
     "output_type": "execute_result"
    },
    {
     "data": {
      "image/png": "[encoded data removed]",
      "text/plain": [
       "<Figure size 720x360 with 2 Axes>"
      ]
     },
     "metadata": {
      "needs_background": "light"
     },
     "output_type": "display_data"
    }
   ],
   "source": [
    "ax = sns.heatmap(corr, annot = True, cmap=\"YlGnBu\")     \n",
    "plt.setp(ax.axes.get_xticklabels(), rotation=45)\n",
    "\n",
    "plt.title('Correlation Matrix for Mammographic Mass Dataset')"
   ]
  },
  {
   "cell_type": "markdown",
   "metadata": {},
   "source": [
    "## Exploring Feature Space"
   ]
  },
  {
   "cell_type": "code",
   "execution_count": 37,
   "metadata": {},
   "outputs": [
    {
     "data": {
      "image/png": "[encoded data removed]",
      "text/plain": [
       "<Figure size 1008x576 with 1 Axes>"
      ]
     },
     "metadata": {
      "needs_background": "light"
     },
     "output_type": "display_data"
    }
   ],
   "source": [
    "feature1 = df_mammo_dropped['Assessment'].values\n",
    "feature2 = df_mammo_dropped['Shape'].values \n",
    "feature3 = df_mammo_dropped['Margin'].values\n",
    "\n",
    "df_mammo_dropped['Severity'] = df_mammo_dropped['Severity'].astype('str')\n",
    "c = df_mammo_dropped['Severity'].values\n",
    "df_mammo_dropped['Severity'] = df_mammo_dropped['Severity'].astype('int')\n",
    "\n",
    "c[c=='0'] = 'b' #benign\n",
    "c[c=='1'] = 'r' #malignant\n",
    "\n",
    "fig = plt.figure(figsize=(14,8))\n",
    "ax = fig.add_subplot(111, projection='3d')\n",
    "ax.scatter(feature1, feature2, feature3, color = c)\n",
    "ax.set_title('Feature Space of Mammographic Mass Dataset', fontsize=15)\n",
    "ax.set_xlabel('Assessment')\n",
    "ax.set_ylabel('Shape')\n",
    "ax.set_zlabel('Margin')\n",
    "\n",
    "\n",
    "plt.show()"
   ]
  },
  {
   "cell_type": "markdown",
   "metadata": {},
   "source": [
    "## Data Split Into Training and Test Sets"
   ]
  },
  {
   "cell_type": "code",
   "execution_count": 38,
   "metadata": {},
   "outputs": [
    {
     "data": {
      "text/plain": [
       "(0.45925925925925926, 0.4983374278979011, 0.2483401920438958)"
      ]
     },
     "execution_count": 38,
     "metadata": {},
     "output_type": "execute_result"
    }
   ],
   "source": [
    "# transfer adjusted data into new X and y arrays\n",
    "\n",
    "X = np.array(df_mammo_dropped.iloc[:, :-1].values)\n",
    "y = np.array(df_mammo_dropped.iloc[:, -1].values) # class label is contained here\n",
    "\n",
    "np.mean(y), np.std(y), np.var(y)"
   ]
  },
  {
   "cell_type": "code",
   "execution_count": 39,
   "metadata": {},
   "outputs": [],
   "source": [
    "X_train, X_test, y_train, y_test = train_test_split(X, y, test_size=0.3, random_state=19, stratify = y)"
   ]
  },
  {
   "cell_type": "markdown",
   "metadata": {},
   "source": [
    "### Oversampling The Minority Class of The Training Set With SMOTE"
   ]
  },
  {
   "cell_type": "code",
   "execution_count": 40,
   "metadata": {},
   "outputs": [
    {
     "name": "stdout",
     "output_type": "stream",
     "text": [
      "Original dataset shape Counter({0: 357, 1: 304})\n",
      "Resampled dataset shape Counter({0: 357, 1: 357})\n"
     ]
    }
   ],
   "source": [
    "print('Original dataset shape %s' % Counter(y_train))\n",
    "\n",
    "smote = SMOTE(sampling_strategy ='minority', random_state = 19) #oversampling\n",
    "\n",
    "X_train, y_train = smote.fit_resample(X_train, y_train)\n",
    "\n",
    "print('Resampled dataset shape %s' % Counter(y_train))"
   ]
  },
  {
   "cell_type": "code",
   "execution_count": 41,
   "metadata": {},
   "outputs": [
    {
     "name": "stdout",
     "output_type": "stream",
     "text": [
      "(714, 5)\n",
      "(714,)\n",
      "(284, 5)\n",
      "(284,)\n"
     ]
    }
   ],
   "source": [
    "print(X_train.shape)\n",
    "print(y_train.shape)\n",
    "print(X_test.shape)\n",
    "print(y_test.shape)"
   ]
  },
  {
   "cell_type": "code",
   "execution_count": 42,
   "metadata": {},
   "outputs": [],
   "source": [
    "# Saving preprocessed data to files for transfer to UCL servers\n",
    "np.save('X_train', X_train) # save the file as \"X_train.npy\"\n",
    "np.save('y_train', y_train) # save the file as \"y_train.npy\" \n",
    "np.save('X_test', X_test) # save the file as \"X_test.npy\"\n",
    "np.save('y_test', y_test) # save the file as \"y_test.npy\""
   ]
  },
  {
   "cell_type": "markdown",
   "metadata": {},
   "source": [
    "## Build Complex Functions In Advance"
   ]
  },
  {
   "cell_type": "markdown",
   "metadata": {},
   "source": [
    "### Sequential Backward Selection"
   ]
  },
  {
   "cell_type": "code",
   "execution_count": 43,
   "metadata": {},
   "outputs": [
    {
     "data": {
      "text/plain": [
       "5"
      ]
     },
     "execution_count": 43,
     "metadata": {},
     "output_type": "execute_result"
    }
   ],
   "source": [
    "class SBS(): # from practical lectures at UCL\n",
    "    def __init__(self, estimator, k_features, scoring=roc_auc_score,\n",
    "                 test_size=0.3, random_state=19):\n",
    "        self.scoring = scoring\n",
    "        self.estimator = clone(estimator)\n",
    "        self.k_features = k_features\n",
    "        self.test_size = test_size\n",
    "        self.random_state = random_state\n",
    "\n",
    "    def fit(self, X, y):\n",
    "        \n",
    "        X_train, X_test, y_train, y_test = \\\n",
    "                train_test_split(X, y, test_size=self.test_size, \n",
    "                                 random_state=self.random_state)\n",
    "\n",
    "        dim = X_train.shape[1]\n",
    "        \n",
    "        self.indices_ = tuple(range(dim))\n",
    "        self.subsets_ = [self.indices_]\n",
    "        score = self._calc_score(X_train, y_train, \n",
    "                                 X_test, y_test, self.indices_)\n",
    "        self.scores_ = [score]\n",
    "\n",
    "        while dim > self.k_features:\n",
    "            scores = []\n",
    "            subsets = []\n",
    "\n",
    "            for p in combinations(self.indices_, r=dim-1):\n",
    "                score = self._calc_score(X_train, y_train, \n",
    "                                         X_test, y_test, p)\n",
    "                scores.append(score)\n",
    "                subsets.append(p)\n",
    "\n",
    "            best = np.argmax(scores)\n",
    "            self.indices_ = subsets[best]\n",
    "            self.subsets_.append(self.indices_)\n",
    "            dim -= 1\n",
    "\n",
    "            self.scores_.append(scores[best])\n",
    "        self.k_score_ = self.scores_[-1]\n",
    "\n",
    "        return self\n",
    "\n",
    "    def transform(self, X):\n",
    "        return X[:, self.indices_]\n",
    "\n",
    "    def _calc_score(self, X_train, y_train, X_test, y_test, indices):\n",
    "        self.estimator.fit(X_train[:, indices], y_train)\n",
    "        y_pred = self.estimator.predict(X_test[:, indices])\n",
    "        score = self.scoring(y_test, y_pred)\n",
    "        return score\n",
    "    \n",
    "X_train.shape[1]"
   ]
  },
  {
   "cell_type": "markdown",
   "metadata": {},
   "source": [
    "### Training Metrics"
   ]
  },
  {
   "cell_type": "code",
   "execution_count": 44,
   "metadata": {},
   "outputs": [],
   "source": [
    "plt.rcParams['figure.figsize']=(7,7)\n",
    "\n",
    "def training_metrics(clf, X_train, y_train, prediction):\n",
    "    \n",
    "    # training metrics\n",
    "    print(\"Evaluation parameters on training data:\")\n",
    "    print(\"\\n\")\n",
    "\n",
    "    print(\"Accuracy: {0:.4f}\".format(metrics.accuracy_score(y_train, prediction)))\n",
    "    print(\"AUC: {0:.4f}\".format(metrics.roc_auc_score(y_train, prediction)))\n",
    "    print(\"Precision: {0:.4f}\".format(metrics.precision_score(y_train, prediction)))\n",
    "    print(\"Recall: {0:.4f}\".format(metrics.recall_score(y_train, prediction)))\n",
    "    print(\"F1: {0:.4f}\".format(metrics.f1_score(y_train, prediction)))\n",
    "\n",
    "    print(\"\\n\")\n",
    "    print(\"Confusion Matrix\")\n",
    "    print(confusion_matrix(y_train, prediction))\n",
    "\n",
    "    tr_probas = clf.predict_proba(X_train)\n",
    "    fpr, tpr, thresholds = roc_curve(y_train, tr_probas[:, 1], pos_label=1)\n",
    "    roc_auc = auc(fpr, tpr)\n",
    "    current_auc = str('%.4f' %roc_auc)\n",
    "    fig = plt.figure(figsize=(5, 5))    \n",
    "    plt.plot(fpr, tpr, lw=1, label= str('Classifier on training data' + ' AUC: ' + current_auc))\n",
    "\n",
    "    plt.plot([0, 1], \n",
    "             [0, 1], \n",
    "             linestyle='--', \n",
    "             color=(0.6, 0.6, 0.6), \n",
    "             label='random guessing')\n",
    "\n",
    "    plt.plot([0, 0, 1], \n",
    "             [0, 1, 1], \n",
    "             lw=2, \n",
    "             linestyle=':', \n",
    "             color='black', \n",
    "             label='perfect performance')\n",
    "\n",
    "    plt.xlim([-0.05, 1.05])\n",
    "    plt.ylim([-0.05, 1.05])\n",
    "    plt.xlabel('false positive rate')\n",
    "    plt.ylabel('true positive rate')\n",
    "    plt.title('Receiver Operator Characteristic')\n",
    "    plt.legend(loc=\"lower right\")\n",
    "\n",
    "    plt.tight_layout()\n",
    "    plt.show()"
   ]
  },
  {
   "cell_type": "markdown",
   "metadata": {},
   "source": [
    "### Testing Metrics"
   ]
  },
  {
   "cell_type": "code",
   "execution_count": 45,
   "metadata": {},
   "outputs": [],
   "source": [
    "def testing_metrics(clf, X_test, y_test, prediction):\n",
    "    \n",
    "    # training metrics\n",
    "    print(\"Evaluation parameters on testing data:\")\n",
    "    print(\"\\n\")\n",
    "\n",
    "    print(\"Accuracy: {0:.4f}\".format(metrics.accuracy_score(y_test, prediction)))\n",
    "    print(\"AUC: {0:.4f}\".format(metrics.roc_auc_score(y_test, prediction)))\n",
    "    print(\"Precision: {0:.4f}\".format(metrics.precision_score(y_test, prediction)))\n",
    "    print(\"Recall: {0:.4f}\".format(metrics.recall_score(y_test, prediction)))\n",
    "    print(\"F1: {0:.4f}\".format(metrics.f1_score(y_test, prediction)))\n",
    "\n",
    "    print(\"\\n\")\n",
    "    print(\"Confusion Matrix\")\n",
    "    print(confusion_matrix(y_test, prediction))\n",
    "\n",
    "    tr_probas = clf.predict_proba(X_test)\n",
    "    fpr, tpr, thresholds = roc_curve(y_test, tr_probas[:, 1], pos_label=1)\n",
    "    roc_auc = auc(fpr, tpr)\n",
    "    current_auc = str('%.4f' %roc_auc)\n",
    "    fig = plt.figure(figsize=(5, 5))    \n",
    "    plt.plot(fpr, tpr, lw=1, label= str('Classifier on testing data' + ' AUC: ' + current_auc))\n",
    "\n",
    "    plt.plot([0, 1], \n",
    "             [0, 1], \n",
    "             linestyle='--', \n",
    "             color=(0.6, 0.6, 0.6), \n",
    "             label='random guessing')\n",
    "\n",
    "    plt.plot([0, 0, 1], \n",
    "             [0, 1, 1], \n",
    "             lw=2, \n",
    "             linestyle=':', \n",
    "             color='black', \n",
    "             label='perfect performance')\n",
    "\n",
    "    plt.xlim([-0.05, 1.05])\n",
    "    plt.ylim([-0.05, 1.05])\n",
    "    plt.xlabel('false positive rate')\n",
    "    plt.ylabel('true positive rate')\n",
    "    plt.title('Receiver Operator Characteristic')\n",
    "    plt.legend(loc=\"lower right\")\n",
    "\n",
    "    plt.tight_layout()\n",
    "    plt.show()"
   ]
  },
  {
   "cell_type": "markdown",
   "metadata": {},
   "source": [
    "## Decision Tree"
   ]
  },
  {
   "cell_type": "code",
   "execution_count": 46,
   "metadata": {},
   "outputs": [],
   "source": [
    "dt = DecisionTreeClassifier(random_state=19)\n",
    "\n",
    "# selecting features\n",
    "sbs_dt = SBS(dt, k_features=1)\n",
    "sbs_dt.fit(X_train, y_train)\n",
    "\n",
    "# plotting performance of feature subsets\n",
    "dt_feat = [len(k) for k in sbs_dt.subsets_]"
   ]
  },
  {
   "cell_type": "code",
   "execution_count": 47,
   "metadata": {},
   "outputs": [
    {
     "data": {
      "image/png": "[encoded data removed]",
      "text/plain": [
       "<Figure size 648x648 with 1 Axes>"
      ]
     },
     "metadata": {
      "needs_background": "light"
     },
     "output_type": "display_data"
    }
   ],
   "source": [
    "plt.rcParams['figure.figsize']=(9,9)\n",
    "plt.plot(dt_feat, sbs_dt.scores_, marker='o')\n",
    "plt.ylim([0.65, 0.9])\n",
    "plt.ylabel('AUC')\n",
    "plt.xlabel('Number of features')\n",
    "plt.grid()\n",
    "plt.tight_layout()\n",
    "plt.show()"
   ]
  },
  {
   "cell_type": "code",
   "execution_count": 48,
   "metadata": {},
   "outputs": [
    {
     "data": {
      "text/plain": [
       "[(0, 1, 2, 3, 4), (0, 2, 3, 4), (0, 3, 4), (0, 3), (0,)]"
      ]
     },
     "execution_count": 48,
     "metadata": {},
     "output_type": "execute_result"
    }
   ],
   "source": [
    "sbs_dt.subsets_"
   ]
  },
  {
   "cell_type": "code",
   "execution_count": 49,
   "metadata": {},
   "outputs": [
    {
     "name": "stdout",
     "output_type": "stream",
     "text": [
      "[0, 3, 4]\n",
      "Index(['Assessment', 'Margin', 'Density'], dtype='object')\n"
     ]
    }
   ],
   "source": [
    "dt_3=list(sbs_dt.subsets_[-3])\n",
    "print(dt_3)\n",
    "\n",
    "feature_labels = df_mammo_dropped.columns[0:-1]\n",
    "print (feature_labels[dt_3])"
   ]
  },
  {
   "cell_type": "code",
   "execution_count": 50,
   "metadata": {},
   "outputs": [
    {
     "data": {
      "text/html": [
       "<div>\n",
       "<style scoped>\n",
       "    .dataframe tbody tr th:only-of-type {\n",
       "        vertical-align: middle;\n",
       "    }\n",
       "\n",
       "    .dataframe tbody tr th {\n",
       "        vertical-align: top;\n",
       "    }\n",
       "\n",
       "    .dataframe thead th {\n",
       "        text-align: right;\n",
       "    }\n",
       "</style>\n",
       "<table border=\"1\" class=\"dataframe\">\n",
       "  <thead>\n",
       "    <tr style=\"text-align: right;\">\n",
       "      <th></th>\n",
       "      <th>Assessment</th>\n",
       "      <th>Margin</th>\n",
       "      <th>Density</th>\n",
       "      <th>Severity</th>\n",
       "    </tr>\n",
       "  </thead>\n",
       "  <tbody>\n",
       "    <tr>\n",
       "      <th>0</th>\n",
       "      <td>5</td>\n",
       "      <td>5</td>\n",
       "      <td>3</td>\n",
       "      <td>1</td>\n",
       "    </tr>\n",
       "    <tr>\n",
       "      <th>1</th>\n",
       "      <td>4</td>\n",
       "      <td>1</td>\n",
       "      <td>3</td>\n",
       "      <td>1</td>\n",
       "    </tr>\n",
       "    <tr>\n",
       "      <th>2</th>\n",
       "      <td>5</td>\n",
       "      <td>5</td>\n",
       "      <td>3</td>\n",
       "      <td>1</td>\n",
       "    </tr>\n",
       "    <tr>\n",
       "      <th>3</th>\n",
       "      <td>4</td>\n",
       "      <td>1</td>\n",
       "      <td>3</td>\n",
       "      <td>0</td>\n",
       "    </tr>\n",
       "    <tr>\n",
       "      <th>4</th>\n",
       "      <td>5</td>\n",
       "      <td>5</td>\n",
       "      <td>3</td>\n",
       "      <td>1</td>\n",
       "    </tr>\n",
       "  </tbody>\n",
       "</table>\n",
       "</div>"
      ],
      "text/plain": [
       "   Assessment  Margin  Density  Severity\n",
       "0           5       5        3         1\n",
       "1           4       1        3         1\n",
       "2           5       5        3         1\n",
       "3           4       1        3         0\n",
       "4           5       5        3         1"
      ]
     },
     "execution_count": 50,
     "metadata": {},
     "output_type": "execute_result"
    }
   ],
   "source": [
    "features_selected = ['Assessment', 'Margin', 'Density', 'Severity']\n",
    "\n",
    "dt_df_mammo = df_mammo_dropped.loc[:, features_selected]\n",
    "dt_df_mammo.head()"
   ]
  },
  {
   "cell_type": "code",
   "execution_count": 51,
   "metadata": {},
   "outputs": [],
   "source": [
    "dt_X = np.array(dt_df_mammo.iloc[:, :-1].values)\n",
    "dt_y = np.array(dt_df_mammo.iloc[:, -1].values)"
   ]
  },
  {
   "cell_type": "code",
   "execution_count": 52,
   "metadata": {},
   "outputs": [],
   "source": [
    "dt_X_train, dt_X_test, dt_y_train, dt_y_test = train_test_split(dt_X, dt_y, test_size=0.3, random_state=19, stratify = y)"
   ]
  },
  {
   "cell_type": "code",
   "execution_count": 53,
   "metadata": {},
   "outputs": [
    {
     "name": "stdout",
     "output_type": "stream",
     "text": [
      "Original dataset shape Counter({0: 357, 1: 304})\n",
      "Resampled dataset shape Counter({0: 357, 1: 357})\n"
     ]
    }
   ],
   "source": [
    "print('Original dataset shape %s' % Counter(dt_y_train))\n",
    "\n",
    "smote_dt = SMOTE(sampling_strategy ='minority', random_state = 19) #oversampling\n",
    "              \n",
    "dt_X_train, dt_y_train = smote_dt.fit_resample(dt_X_train, dt_y_train)\n",
    "\n",
    "print('Resampled dataset shape %s' % Counter(dt_y_train))"
   ]
  },
  {
   "cell_type": "code",
   "execution_count": 54,
   "metadata": {},
   "outputs": [
    {
     "name": "stdout",
     "output_type": "stream",
     "text": [
      "(714, 3)\n",
      "(714,)\n",
      "(284, 3)\n",
      "(284,)\n"
     ]
    }
   ],
   "source": [
    "print(dt_X_train.shape)\n",
    "print(dt_y_train.shape)\n",
    "print(dt_X_test.shape)\n",
    "print(dt_y_test.shape)"
   ]
  },
  {
   "cell_type": "code",
   "execution_count": 55,
   "metadata": {},
   "outputs": [],
   "source": [
    "# Saving preprocessed data to files for transfer to UCL servers\n",
    "np.save('dt_X_train', dt_X_train) # save the file as \"dt_X_train.npy\"\n",
    "np.save('dt_y_train', dt_y_train) # save the file as \"dt_y_train.npy\" \n",
    "np.save('dt_X_test', dt_X_test) # save the file as \"dt_X_test.npy\"\n",
    "np.save('dt_y_test', dt_y_test) # save the file as \"dt_y_test.npy\""
   ]
  },
  {
   "cell_type": "markdown",
   "metadata": {},
   "source": [
    "### Base Decision Tree"
   ]
  },
  {
   "cell_type": "code",
   "execution_count": 56,
   "metadata": {},
   "outputs": [],
   "source": [
    "base_dt = DecisionTreeClassifier(random_state=19)"
   ]
  },
  {
   "cell_type": "code",
   "execution_count": 57,
   "metadata": {},
   "outputs": [
    {
     "data": {
      "text/plain": [
       "DecisionTreeClassifier(ccp_alpha=0.0, class_weight=None, criterion='gini',\n",
       "                       max_depth=None, max_features=None, max_leaf_nodes=None,\n",
       "                       min_impurity_decrease=0.0, min_impurity_split=None,\n",
       "                       min_samples_leaf=1, min_samples_split=2,\n",
       "                       min_weight_fraction_leaf=0.0, presort='deprecated',\n",
       "                       random_state=19, splitter='best')"
      ]
     },
     "execution_count": 57,
     "metadata": {},
     "output_type": "execute_result"
    }
   ],
   "source": [
    "base_dt"
   ]
  },
  {
   "cell_type": "code",
   "execution_count": 58,
   "metadata": {},
   "outputs": [],
   "source": [
    "base_dt.fit(dt_X_train, dt_y_train)  \n",
    "\n",
    "base_dt_training_prediction = base_dt.predict(dt_X_train)\n",
    "\n",
    "base_dt_testing_prediction = base_dt.predict(dt_X_test)\n",
    "#base_dt_testing_prediction"
   ]
  },
  {
   "cell_type": "code",
   "execution_count": 59,
   "metadata": {},
   "outputs": [
    {
     "name": "stdout",
     "output_type": "stream",
     "text": [
      "Evaluation parameters on training data:\n",
      "\n",
      "\n",
      "Accuracy: 0.8375\n",
      "AUC: 0.8375\n",
      "Precision: 0.8163\n",
      "Recall: 0.8711\n",
      "F1: 0.8428\n",
      "\n",
      "\n",
      "Confusion Matrix\n",
      "[[287  70]\n",
      " [ 46 311]]\n"
     ]
    },
    {
     "data": {
      "image/png": "[encoded data removed]",
      "text/plain": [
       "<Figure size 360x360 with 1 Axes>"
      ]
     },
     "metadata": {
      "needs_background": "light"
     },
     "output_type": "display_data"
    }
   ],
   "source": [
    "training_metrics(base_dt, dt_X_train, dt_y_train, base_dt_training_prediction)"
   ]
  },
  {
   "cell_type": "code",
   "execution_count": 60,
   "metadata": {},
   "outputs": [
    {
     "data": {
      "text/plain": [
       "(311, 46, 70, 287)"
      ]
     },
     "execution_count": 60,
     "metadata": {},
     "output_type": "execute_result"
    }
   ],
   "source": [
    "tn, fp, fn, tp = confusion_matrix(dt_y_train, base_dt_training_prediction).ravel()\n",
    "(tp, fn, fp, tn)"
   ]
  },
  {
   "cell_type": "code",
   "execution_count": 61,
   "metadata": {},
   "outputs": [
    {
     "name": "stdout",
     "output_type": "stream",
     "text": [
      "Evaluation parameters on testing data:\n",
      "\n",
      "\n",
      "Accuracy: 0.8028\n",
      "AUC: 0.8062\n",
      "Precision: 0.7534\n",
      "Recall: 0.8462\n",
      "F1: 0.7971\n",
      "\n",
      "\n",
      "Confusion Matrix\n",
      "[[118  36]\n",
      " [ 20 110]]\n"
     ]
    },
    {
     "data": {
      "image/png": "[encoded data removed]",
      "text/plain": [
       "<Figure size 360x360 with 1 Axes>"
      ]
     },
     "metadata": {
      "needs_background": "light"
     },
     "output_type": "display_data"
    }
   ],
   "source": [
    "testing_metrics(base_dt, dt_X_test, dt_y_test, base_dt_testing_prediction)"
   ]
  },
  {
   "cell_type": "code",
   "execution_count": 62,
   "metadata": {},
   "outputs": [
    {
     "data": {
      "text/plain": [
       "(110, 20, 36, 118)"
      ]
     },
     "execution_count": 62,
     "metadata": {},
     "output_type": "execute_result"
    }
   ],
   "source": [
    "tn, fp, fn, tp = confusion_matrix(dt_y_test, base_dt_testing_prediction).ravel()\n",
    "(tp, fn, fp, tn)"
   ]
  },
  {
   "cell_type": "markdown",
   "metadata": {},
   "source": [
    "### Decision Tree Hyperparameter tunning with GridsearchCV"
   ]
  },
  {
   "cell_type": "code",
   "execution_count": 63,
   "metadata": {},
   "outputs": [
    {
     "name": "stdout",
     "output_type": "stream",
     "text": [
      "Fitting 10 folds for each of 108 candidates, totalling 1080 fits\n"
     ]
    },
    {
     "name": "stderr",
     "output_type": "stream",
     "text": [
      "[Parallel(n_jobs=3)]: Using backend LokyBackend with 3 concurrent workers.\n",
      "[Parallel(n_jobs=3)]: Done 280 tasks      | elapsed:    2.5s\n"
     ]
    },
    {
     "name": "stdout",
     "output_type": "stream",
     "text": [
      "--> Tuned Parameters Best Score:  0.8785934744268078\n",
      "--> Best Parameters: \n",
      " {'class_weight': 'balanced', 'criterion': 'entropy', 'max_depth': None, 'min_samples_leaf': 10, 'min_samples_split': 2, 'random_state': 19}\n"
     ]
    },
    {
     "name": "stderr",
     "output_type": "stream",
     "text": [
      "[Parallel(n_jobs=3)]: Done 1080 out of 1080 | elapsed:    3.1s finished\n"
     ]
    }
   ],
   "source": [
    "hyperparameters_dt={'criterion': ['gini', 'entropy'],\n",
    "            'max_depth': [None, 5, 10],\n",
    "            'min_samples_leaf': [1, 5, 10],\n",
    "            'min_samples_split': [2, 5, 10],\n",
    "            'random_state' : [19],\n",
    "            'class_weight': ['balanced', 'None']}\n",
    "\n",
    "dt_gscv = GridSearchCV(estimator = DecisionTreeClassifier(),\n",
    "                   param_grid = hyperparameters_dt,\n",
    "                   n_jobs=3,\n",
    "                   scoring='roc_auc',\n",
    "                   verbose=2,\n",
    "                   cv=10)\n",
    "\n",
    "dt_gsCV = dt_gscv.fit(dt_X_train, dt_y_train)\n",
    "print('--> Tuned Parameters Best Score: ',dt_gsCV.best_score_)\n",
    "print('--> Best Parameters: \\n',dt_gsCV.best_params_)"
   ]
  },
  {
   "cell_type": "code",
   "execution_count": 64,
   "metadata": {},
   "outputs": [],
   "source": [
    "best_dt  = DecisionTreeClassifier(class_weight = 'balanced',\n",
    "                                  criterion = 'entropy',\n",
    "                                  max_depth = None,\n",
    "                                  min_samples_leaf = 10,\n",
    "                                  min_samples_split = 2,\n",
    "                                  random_state = 19,\n",
    "                                 )\n",
    "\n",
    "best_dt.fit(dt_X_train, dt_y_train)  \n",
    "\n",
    "best_dt_training_prediction = base_dt.predict(dt_X_train)\n",
    "\n",
    "best_dt_testing_prediction = best_dt.predict(dt_X_test)\n",
    "# best_dt_testing_prediction"
   ]
  },
  {
   "cell_type": "code",
   "execution_count": 65,
   "metadata": {},
   "outputs": [
    {
     "data": {
      "text/plain": [
       "DecisionTreeClassifier(ccp_alpha=0.0, class_weight='balanced',\n",
       "                       criterion='entropy', max_depth=None, max_features=None,\n",
       "                       max_leaf_nodes=None, min_impurity_decrease=0.0,\n",
       "                       min_impurity_split=None, min_samples_leaf=10,\n",
       "                       min_samples_split=2, min_weight_fraction_leaf=0.0,\n",
       "                       presort='deprecated', random_state=19, splitter='best')"
      ]
     },
     "execution_count": 65,
     "metadata": {},
     "output_type": "execute_result"
    }
   ],
   "source": [
    "best_dt"
   ]
  },
  {
   "cell_type": "code",
   "execution_count": 66,
   "metadata": {},
   "outputs": [
    {
     "name": "stdout",
     "output_type": "stream",
     "text": [
      "Evaluation parameters on training data:\n",
      "\n",
      "\n",
      "Accuracy: 0.8375\n",
      "AUC: 0.8375\n",
      "Precision: 0.8163\n",
      "Recall: 0.8711\n",
      "F1: 0.8428\n",
      "\n",
      "\n",
      "Confusion Matrix\n",
      "[[287  70]\n",
      " [ 46 311]]\n"
     ]
    },
    {
     "data": {
      "image/png": "[encoded data removed]",
      "text/plain": [
       "<Figure size 360x360 with 1 Axes>"
      ]
     },
     "metadata": {
      "needs_background": "light"
     },
     "output_type": "display_data"
    }
   ],
   "source": [
    "training_metrics(best_dt, dt_X_train, dt_y_train, best_dt_training_prediction)"
   ]
  },
  {
   "cell_type": "code",
   "execution_count": 67,
   "metadata": {},
   "outputs": [
    {
     "data": {
      "text/plain": [
       "(311, 46, 70, 287)"
      ]
     },
     "execution_count": 67,
     "metadata": {},
     "output_type": "execute_result"
    }
   ],
   "source": [
    "tn, fp, fn, tp = confusion_matrix(dt_y_train, best_dt_training_prediction).ravel()\n",
    "(tp, fn, fp, tn)"
   ]
  },
  {
   "cell_type": "code",
   "execution_count": 68,
   "metadata": {},
   "outputs": [
    {
     "name": "stdout",
     "output_type": "stream",
     "text": [
      "Evaluation parameters on testing data:\n",
      "\n",
      "\n",
      "Accuracy: 0.7923\n",
      "AUC: 0.7971\n",
      "Precision: 0.7351\n",
      "Recall: 0.8538\n",
      "F1: 0.7900\n",
      "\n",
      "\n",
      "Confusion Matrix\n",
      "[[114  40]\n",
      " [ 19 111]]\n"
     ]
    },
    {
     "data": {
      "image/png": "[encoded data removed]",
      "text/plain": [
       "<Figure size 360x360 with 1 Axes>"
      ]
     },
     "metadata": {
      "needs_background": "light"
     },
     "output_type": "display_data"
    }
   ],
   "source": [
    "testing_metrics(best_dt, dt_X_test, dt_y_test, best_dt_testing_prediction)"
   ]
  },
  {
   "cell_type": "code",
   "execution_count": 69,
   "metadata": {},
   "outputs": [
    {
     "data": {
      "text/plain": [
       "(111, 19, 40, 114)"
      ]
     },
     "execution_count": 69,
     "metadata": {},
     "output_type": "execute_result"
    }
   ],
   "source": [
    "tn, fp, fn, tp = confusion_matrix(dt_y_test, best_dt_testing_prediction).ravel()\n",
    "(tp, fn, fp, tn)"
   ]
  },
  {
   "cell_type": "markdown",
   "metadata": {},
   "source": [
    "### Sensitivity Analysis"
   ]
  },
  {
   "cell_type": "code",
   "execution_count": 70,
   "metadata": {},
   "outputs": [],
   "source": [
    "sens_dt  = DecisionTreeClassifier(class_weight = 'balanced',\n",
    "                                  criterion = 'entropy',\n",
    "                                  max_depth = None,\n",
    "                                  min_samples_leaf = 20,\n",
    "                                  min_samples_split = 10,\n",
    "                                  random_state = 19\n",
    "                                 )\n",
    "\n",
    "sens_dt.fit(dt_X_train, dt_y_train)  \n",
    "\n",
    "sens_dt_training_prediction = sens_dt.predict(dt_X_train)\n",
    "\n",
    "sens_dt_testing_prediction = sens_dt.predict(dt_X_test)\n",
    "# best_dt_testing_prediction"
   ]
  },
  {
   "cell_type": "code",
   "execution_count": 71,
   "metadata": {},
   "outputs": [
    {
     "data": {
      "text/plain": [
       "DecisionTreeClassifier(ccp_alpha=0.0, class_weight='balanced',\n",
       "                       criterion='entropy', max_depth=None, max_features=None,\n",
       "                       max_leaf_nodes=None, min_impurity_decrease=0.0,\n",
       "                       min_impurity_split=None, min_samples_leaf=20,\n",
       "                       min_samples_split=10, min_weight_fraction_leaf=0.0,\n",
       "                       presort='deprecated', random_state=19, splitter='best')"
      ]
     },
     "execution_count": 71,
     "metadata": {},
     "output_type": "execute_result"
    }
   ],
   "source": [
    "sens_dt"
   ]
  },
  {
   "cell_type": "code",
   "execution_count": 72,
   "metadata": {},
   "outputs": [
    {
     "name": "stdout",
     "output_type": "stream",
     "text": [
      "Evaluation parameters on training data:\n",
      "\n",
      "\n",
      "Accuracy: 0.8249\n",
      "AUC: 0.8249\n",
      "Precision: 0.7929\n",
      "Recall: 0.8796\n",
      "F1: 0.8340\n",
      "\n",
      "\n",
      "Confusion Matrix\n",
      "[[275  82]\n",
      " [ 43 314]]\n"
     ]
    },
    {
     "data": {
      "image/png": "[encoded data removed]",
      "text/plain": [
       "<Figure size 360x360 with 1 Axes>"
      ]
     },
     "metadata": {
      "needs_background": "light"
     },
     "output_type": "display_data"
    }
   ],
   "source": [
    "training_metrics(sens_dt, dt_X_train, dt_y_train, sens_dt_training_prediction)"
   ]
  },
  {
   "cell_type": "code",
   "execution_count": 73,
   "metadata": {},
   "outputs": [
    {
     "data": {
      "text/plain": [
       "(314, 43, 82, 275)"
      ]
     },
     "execution_count": 73,
     "metadata": {},
     "output_type": "execute_result"
    }
   ],
   "source": [
    "tn, fp, fn, tp = confusion_matrix(dt_y_train, sens_dt_training_prediction).ravel()\n",
    "(tp, fn, fp, tn)"
   ]
  },
  {
   "cell_type": "code",
   "execution_count": 74,
   "metadata": {},
   "outputs": [
    {
     "name": "stdout",
     "output_type": "stream",
     "text": [
      "Evaluation parameters on testing data:\n",
      "\n",
      "\n",
      "Accuracy: 0.7923\n",
      "AUC: 0.7971\n",
      "Precision: 0.7351\n",
      "Recall: 0.8538\n",
      "F1: 0.7900\n",
      "\n",
      "\n",
      "Confusion Matrix\n",
      "[[114  40]\n",
      " [ 19 111]]\n"
     ]
    },
    {
     "data": {
      "image/png": "[encoded data removed]",
      "text/plain": [
       "<Figure size 360x360 with 1 Axes>"
      ]
     },
     "metadata": {
      "needs_background": "light"
     },
     "output_type": "display_data"
    }
   ],
   "source": [
    "testing_metrics(sens_dt, dt_X_test, dt_y_test, sens_dt_testing_prediction)"
   ]
  },
  {
   "cell_type": "code",
   "execution_count": 75,
   "metadata": {},
   "outputs": [
    {
     "data": {
      "text/plain": [
       "(111, 19, 40, 114)"
      ]
     },
     "execution_count": 75,
     "metadata": {},
     "output_type": "execute_result"
    }
   ],
   "source": [
    "tn, fp, fn, tp = confusion_matrix(dt_y_test, sens_dt_testing_prediction).ravel()\n",
    "(tp, fn, fp, tn)"
   ]
  },
  {
   "cell_type": "markdown",
   "metadata": {},
   "source": [
    "## Support Vector Machine  (SVM) Classification"
   ]
  },
  {
   "cell_type": "code",
   "execution_count": 76,
   "metadata": {},
   "outputs": [],
   "source": [
    "svm = SVC()\n",
    "\n",
    "# selecting features\n",
    "sbs_svm = SBS(svm, k_features=1)\n",
    "sbs_svm.fit(X_train, y_train)\n",
    "\n",
    "# plotting performance of feature subsets\n",
    "svm_feat = [len(k) for k in sbs_svm.subsets_]"
   ]
  },
  {
   "cell_type": "code",
   "execution_count": 77,
   "metadata": {},
   "outputs": [
    {
     "data": {
      "image/png": "[encoded data removed]",
      "text/plain": [
       "<Figure size 648x648 with 1 Axes>"
      ]
     },
     "metadata": {
      "needs_background": "light"
     },
     "output_type": "display_data"
    }
   ],
   "source": [
    "plt.rcParams['figure.figsize']=(9,9)\n",
    "plt.plot(svm_feat, sbs_svm.scores_, marker='o')\n",
    "plt.ylim([0.65, 0.9])\n",
    "plt.ylabel('AUC')\n",
    "plt.xlabel('Number of features')\n",
    "plt.grid()\n",
    "plt.tight_layout()\n",
    "plt.show()"
   ]
  },
  {
   "cell_type": "code",
   "execution_count": 78,
   "metadata": {},
   "outputs": [
    {
     "data": {
      "text/plain": [
       "[(0, 1, 2, 3, 4), (0, 1, 3, 4), (0, 3, 4), (0, 3), (0,)]"
      ]
     },
     "execution_count": 78,
     "metadata": {},
     "output_type": "execute_result"
    }
   ],
   "source": [
    "sbs_svm.subsets_"
   ]
  },
  {
   "cell_type": "code",
   "execution_count": 79,
   "metadata": {},
   "outputs": [
    {
     "name": "stdout",
     "output_type": "stream",
     "text": [
      "[0, 3, 4]\n",
      "Index(['Assessment', 'Margin', 'Density'], dtype='object')\n"
     ]
    }
   ],
   "source": [
    "svm_3=list(sbs_svm.subsets_[-3])\n",
    "print(svm_3)\n",
    "\n",
    "feature_labels = df_mammo_dropped.columns[0:-1]\n",
    "print (feature_labels[svm_3])"
   ]
  },
  {
   "cell_type": "code",
   "execution_count": 80,
   "metadata": {},
   "outputs": [
    {
     "data": {
      "text/html": [
       "<div>\n",
       "<style scoped>\n",
       "    .dataframe tbody tr th:only-of-type {\n",
       "        vertical-align: middle;\n",
       "    }\n",
       "\n",
       "    .dataframe tbody tr th {\n",
       "        vertical-align: top;\n",
       "    }\n",
       "\n",
       "    .dataframe thead th {\n",
       "        text-align: right;\n",
       "    }\n",
       "</style>\n",
       "<table border=\"1\" class=\"dataframe\">\n",
       "  <thead>\n",
       "    <tr style=\"text-align: right;\">\n",
       "      <th></th>\n",
       "      <th>Assessment</th>\n",
       "      <th>Margin</th>\n",
       "      <th>Density</th>\n",
       "      <th>Severity</th>\n",
       "    </tr>\n",
       "  </thead>\n",
       "  <tbody>\n",
       "    <tr>\n",
       "      <th>0</th>\n",
       "      <td>5</td>\n",
       "      <td>5</td>\n",
       "      <td>3</td>\n",
       "      <td>1</td>\n",
       "    </tr>\n",
       "    <tr>\n",
       "      <th>1</th>\n",
       "      <td>4</td>\n",
       "      <td>1</td>\n",
       "      <td>3</td>\n",
       "      <td>1</td>\n",
       "    </tr>\n",
       "    <tr>\n",
       "      <th>2</th>\n",
       "      <td>5</td>\n",
       "      <td>5</td>\n",
       "      <td>3</td>\n",
       "      <td>1</td>\n",
       "    </tr>\n",
       "    <tr>\n",
       "      <th>3</th>\n",
       "      <td>4</td>\n",
       "      <td>1</td>\n",
       "      <td>3</td>\n",
       "      <td>0</td>\n",
       "    </tr>\n",
       "    <tr>\n",
       "      <th>4</th>\n",
       "      <td>5</td>\n",
       "      <td>5</td>\n",
       "      <td>3</td>\n",
       "      <td>1</td>\n",
       "    </tr>\n",
       "  </tbody>\n",
       "</table>\n",
       "</div>"
      ],
      "text/plain": [
       "   Assessment  Margin  Density  Severity\n",
       "0           5       5        3         1\n",
       "1           4       1        3         1\n",
       "2           5       5        3         1\n",
       "3           4       1        3         0\n",
       "4           5       5        3         1"
      ]
     },
     "execution_count": 80,
     "metadata": {},
     "output_type": "execute_result"
    }
   ],
   "source": [
    "features_selected = ['Assessment', 'Margin', 'Density', 'Severity']\n",
    "\n",
    "svm_df_mammo = df_mammo_dropped.loc[:, features_selected]\n",
    "svm_df_mammo.head()"
   ]
  },
  {
   "cell_type": "code",
   "execution_count": 81,
   "metadata": {},
   "outputs": [],
   "source": [
    "svm_X = np.array(svm_df_mammo.iloc[:, :-1].values)\n",
    "svm_y = np.array(svm_df_mammo.iloc[:, -1].values)"
   ]
  },
  {
   "cell_type": "code",
   "execution_count": 82,
   "metadata": {},
   "outputs": [],
   "source": [
    "svm_X_train, svm_X_test, svm_y_train, svm_y_test = train_test_split(svm_X, svm_y, test_size=0.3, random_state=19, stratify = y)"
   ]
  },
  {
   "cell_type": "code",
   "execution_count": 83,
   "metadata": {},
   "outputs": [
    {
     "name": "stdout",
     "output_type": "stream",
     "text": [
      "Original dataset shape Counter({0: 357, 1: 304})\n",
      "Resampled dataset shape Counter({0: 357, 1: 357})\n"
     ]
    }
   ],
   "source": [
    "print('Original dataset shape %s' % Counter(svm_y_train))\n",
    "\n",
    "smote_svm = SMOTE(sampling_strategy ='minority', random_state = 19) #oversampling\n",
    "              \n",
    "svm_X_train, svm_y_train = smote_svm.fit_resample(svm_X_train, svm_y_train)\n",
    "\n",
    "print('Resampled dataset shape %s' % Counter(svm_y_train))"
   ]
  },
  {
   "cell_type": "code",
   "execution_count": 84,
   "metadata": {},
   "outputs": [
    {
     "name": "stdout",
     "output_type": "stream",
     "text": [
      "(714, 3)\n",
      "(714,)\n",
      "(284, 3)\n",
      "(284,)\n"
     ]
    }
   ],
   "source": [
    "print(svm_X_train.shape)\n",
    "print(svm_y_train.shape)\n",
    "print(svm_X_test.shape)\n",
    "print(svm_y_test.shape)"
   ]
  },
  {
   "cell_type": "code",
   "execution_count": 85,
   "metadata": {},
   "outputs": [],
   "source": [
    "# Saving preprocessed data to files for transfer to UCL servers\n",
    "np.save('svm_X_train', svm_X_train) # save the file as \"svm_X_train.npy\"\n",
    "np.save('svm_y_train', svm_y_train) # save the file as \"svm_y_train.npy\" \n",
    "np.save('svm_X_test', svm_X_test) # save the file as \"svm_X_test.npy\"\n",
    "np.save('svm_y_test', svm_y_test) # save the file as \"svm_y_test.npy\""
   ]
  },
  {
   "cell_type": "markdown",
   "metadata": {},
   "source": [
    "### Base SVM"
   ]
  },
  {
   "cell_type": "code",
   "execution_count": 86,
   "metadata": {},
   "outputs": [],
   "source": [
    "base_svm = SVC(probability=True)"
   ]
  },
  {
   "cell_type": "code",
   "execution_count": 87,
   "metadata": {},
   "outputs": [
    {
     "data": {
      "text/plain": [
       "SVC(C=1.0, break_ties=False, cache_size=200, class_weight=None, coef0=0.0,\n",
       "    decision_function_shape='ovr', degree=3, gamma='scale', kernel='rbf',\n",
       "    max_iter=-1, probability=True, random_state=None, shrinking=True, tol=0.001,\n",
       "    verbose=False)"
      ]
     },
     "execution_count": 87,
     "metadata": {},
     "output_type": "execute_result"
    }
   ],
   "source": [
    "base_svm"
   ]
  },
  {
   "cell_type": "code",
   "execution_count": 88,
   "metadata": {},
   "outputs": [],
   "source": [
    "base_svm.fit(svm_X_train, svm_y_train)  \n",
    "\n",
    "base_svm_training_prediction = base_svm.predict(svm_X_train)\n",
    "\n",
    "base_svm_testing_prediction = base_svm.predict(svm_X_test)"
   ]
  },
  {
   "cell_type": "code",
   "execution_count": 89,
   "metadata": {},
   "outputs": [
    {
     "name": "stdout",
     "output_type": "stream",
     "text": [
      "Evaluation parameters on training data:\n",
      "\n",
      "\n",
      "Accuracy: 0.8361\n",
      "AUC: 0.8361\n",
      "Precision: 0.8125\n",
      "Recall: 0.8739\n",
      "F1: 0.8421\n",
      "\n",
      "\n",
      "Confusion Matrix\n",
      "[[285  72]\n",
      " [ 45 312]]\n"
     ]
    },
    {
     "data": {
      "image/png": "[encoded data removed]",
      "text/plain": [
       "<Figure size 360x360 with 1 Axes>"
      ]
     },
     "metadata": {
      "needs_background": "light"
     },
     "output_type": "display_data"
    }
   ],
   "source": [
    "training_metrics(base_svm, svm_X_train, svm_y_train, base_svm_training_prediction)"
   ]
  },
  {
   "cell_type": "code",
   "execution_count": 90,
   "metadata": {},
   "outputs": [
    {
     "data": {
      "text/plain": [
       "(312, 45, 72, 285)"
      ]
     },
     "execution_count": 90,
     "metadata": {},
     "output_type": "execute_result"
    }
   ],
   "source": [
    "tn, fp, fn, tp = confusion_matrix(svm_y_train, base_svm_training_prediction).ravel()\n",
    "(tp, fn, fp, tn)"
   ]
  },
  {
   "cell_type": "code",
   "execution_count": 91,
   "metadata": {},
   "outputs": [
    {
     "name": "stdout",
     "output_type": "stream",
     "text": [
      "Evaluation parameters on testing data:\n",
      "\n",
      "\n",
      "Accuracy: 0.8063\n",
      "AUC: 0.8100\n",
      "Precision: 0.7551\n",
      "Recall: 0.8538\n",
      "F1: 0.8014\n",
      "\n",
      "\n",
      "Confusion Matrix\n",
      "[[118  36]\n",
      " [ 19 111]]\n"
     ]
    },
    {
     "data": {
      "image/png": "[encoded data removed]",
      "text/plain": [
       "<Figure size 360x360 with 1 Axes>"
      ]
     },
     "metadata": {
      "needs_background": "light"
     },
     "output_type": "display_data"
    }
   ],
   "source": [
    "testing_metrics(base_svm, svm_X_test, svm_y_test, base_svm_testing_prediction)"
   ]
  },
  {
   "cell_type": "code",
   "execution_count": 92,
   "metadata": {},
   "outputs": [
    {
     "data": {
      "text/plain": [
       "(111, 19, 36, 118)"
      ]
     },
     "execution_count": 92,
     "metadata": {},
     "output_type": "execute_result"
    }
   ],
   "source": [
    "tn, fp, fn, tp = confusion_matrix(svm_y_test, base_svm_testing_prediction).ravel()\n",
    "(tp, fn, fp, tn)"
   ]
  },
  {
   "cell_type": "markdown",
   "metadata": {},
   "source": [
    "### SVM Hyperparameters tunning with GridSearchCV"
   ]
  },
  {
   "cell_type": "code",
   "execution_count": 93,
   "metadata": {},
   "outputs": [],
   "source": [
    "param_range = [0.001, 0.01, 0.1, 1.0, 10.0, 100.0, 1000.0]   \n",
    "\n",
    "hyperparameters_svm=[{'kernel': ['rbf'], 'gamma': param_range, 'C': param_range, 'shrinking' : [True, False], 'decision_function_shape':['ovo', 'ovr'], 'random_state': [19]},\n",
    "                                 {'kernel': ['rbf'], 'gamma': ['auto', 'scaled'],  'C': param_range, 'shrinking' : [True, False], 'decision_function_shape':['ovo', 'ovr'],'random_state': [19]},\n",
    "                                 {'kernel': ['linear'], 'gamma': param_range, 'C': param_range, 'shrinking' : [True, False], 'decision_function_shape':['ovo', 'ovr'],'random_state': [19]},\n",
    "                                 {'kernel': ['linear'], 'gamma': ['auto', 'scaled'],  'C': param_range, 'shrinking' : [True, False], 'decision_function_shape':['ovo', 'ovr'],'random_state': [19]},\n",
    "                                 {'kernel': ['sigmoid'], 'gamma': param_range, 'C': param_range, 'shrinking' : [True, False], 'coef0': param_range, 'decision_function_shape':['ovo', 'ovr'],'random_state': [19]},\n",
    "                                 {'kernel': ['sigmoid'], 'gamma': ['auto', 'scaled'], 'C': param_range, 'shrinking' : [True, False],'coef0': param_range, 'decision_function_shape':['ovo', 'ovr'],'random_state': [19]}] "
   ]
  },
  {
   "cell_type": "code",
   "execution_count": 94,
   "metadata": {},
   "outputs": [
    {
     "name": "stdout",
     "output_type": "stream",
     "text": [
      "Fitting 10 folds for each of 2268 candidates, totalling 22680 fits\n"
     ]
    },
    {
     "name": "stderr",
     "output_type": "stream",
     "text": [
      "[Parallel(n_jobs=3)]: Using backend LokyBackend with 3 concurrent workers.\n",
      "[Parallel(n_jobs=3)]: Done 296 tasks      | elapsed:    3.2s\n",
      "[Parallel(n_jobs=3)]: Done 1506 tasks      | elapsed:   12.5s\n",
      "[Parallel(n_jobs=3)]: Done 5112 tasks      | elapsed:  1.3min\n",
      "[Parallel(n_jobs=3)]: Done 8750 tasks      | elapsed:  1.8min\n",
      "[Parallel(n_jobs=3)]: Done 13130 tasks      | elapsed:  2.2min\n",
      "[Parallel(n_jobs=3)]: Done 18470 tasks      | elapsed:  2.7min\n"
     ]
    },
    {
     "name": "stdout",
     "output_type": "stream",
     "text": [
      "--> Tuned Parameters Best Score:  0.8805324074074073\n",
      "--> Best Parameters: \n",
      " {'C': 10.0, 'decision_function_shape': 'ovo', 'gamma': 0.001, 'kernel': 'linear', 'random_state': 19, 'shrinking': True}\n"
     ]
    },
    {
     "name": "stderr",
     "output_type": "stream",
     "text": [
      "[Parallel(n_jobs=3)]: Done 22680 out of 22680 | elapsed:  3.0min finished\n"
     ]
    }
   ],
   "source": [
    "svm_gscv = GridSearchCV(estimator = SVC(),\n",
    "                   param_grid = hyperparameters_svm,\n",
    "                   n_jobs=3,\n",
    "                   scoring='roc_auc',\n",
    "                   verbose=2,\n",
    "                   cv=10)\n",
    "\n",
    "svm_gsCV = svm_gscv.fit(svm_X_train, svm_y_train)\n",
    "print('--> Tuned Parameters Best Score: ',svm_gsCV.best_score_)\n",
    "print('--> Best Parameters: \\n',svm_gsCV.best_params_)"
   ]
  },
  {
   "cell_type": "code",
   "execution_count": 95,
   "metadata": {},
   "outputs": [],
   "source": [
    "#param_range = [0.001, 0.01, 0.1, 1.0, 10.0, 100.0, 1000.0]   \n",
    "param_range_1 = [5, 6, 7, 8, 9, 10, 11, 12, 13, 14, 15, 0.0005, 0.0006, 0.0007, 0.0008, 0.0009, 0.001, 0.0011, 0.0012, 0.0013, 0.0014, 0.0015]\n",
    "\n",
    "hyperparameters_svm_1=[{'kernel': ['linear'], 'gamma': param_range_1, 'C': param_range_1, 'shrinking' : [True, False], 'decision_function_shape':['ovo', 'ovr'], 'random_state': [19]},\n",
    "                                    {'kernel': ['linear'], 'gamma': ['auto', 'scaled'], 'C': param_range_1, 'shrinking' : [True, False], 'decision_function_shape':['ovo', 'ovr'],'random_state': [19]}]"
   ]
  },
  {
   "cell_type": "code",
   "execution_count": 96,
   "metadata": {},
   "outputs": [
    {
     "name": "stderr",
     "output_type": "stream",
     "text": [
      "[Parallel(n_jobs=3)]: Using backend LokyBackend with 3 concurrent workers.\n"
     ]
    },
    {
     "name": "stdout",
     "output_type": "stream",
     "text": [
      "Fitting 10 folds for each of 2112 candidates, totalling 21120 fits\n"
     ]
    },
    {
     "name": "stderr",
     "output_type": "stream",
     "text": [
      "[Parallel(n_jobs=3)]: Done 702 tasks      | elapsed:    3.1s\n",
      "[Parallel(n_jobs=3)]: Done 3606 tasks      | elapsed:   16.3s\n",
      "[Parallel(n_jobs=3)]: Done 8478 tasks      | elapsed:   42.7s\n",
      "[Parallel(n_jobs=3)]: Done 15270 tasks      | elapsed:  1.2min\n"
     ]
    },
    {
     "name": "stdout",
     "output_type": "stream",
     "text": [
      "--> Tuned Parameters Best Score:  0.8805324074074073\n",
      "--> Best Parameters: \n",
      " {'C': 10, 'decision_function_shape': 'ovo', 'gamma': 5, 'kernel': 'linear', 'random_state': 19, 'shrinking': True}\n"
     ]
    },
    {
     "name": "stderr",
     "output_type": "stream",
     "text": [
      "[Parallel(n_jobs=3)]: Done 21120 out of 21120 | elapsed:  1.6min finished\n"
     ]
    }
   ],
   "source": [
    "svm_gscv = GridSearchCV(estimator = SVC(),\n",
    "                   param_grid = hyperparameters_svm_1,\n",
    "                   n_jobs=3,\n",
    "                   scoring='roc_auc',\n",
    "                   verbose=2,\n",
    "                   cv=10)\n",
    "\n",
    "svm_gsCV = svm_gscv.fit(svm_X_train, svm_y_train)\n",
    "print('--> Tuned Parameters Best Score: ',svm_gsCV.best_score_)\n",
    "print('--> Best Parameters: \\n',svm_gsCV.best_params_)"
   ]
  },
  {
   "cell_type": "code",
   "execution_count": 97,
   "metadata": {},
   "outputs": [],
   "source": [
    "#param_range = [0.001, 0.01, 0.1, 1.0, 10.0, 100.0, 1000.0]   \n",
    "#param_range_1 = [5, 6, 7, 8, 9, 10, 11, 12, 13, 14, 15, 0.0005, 0.0006, 0.0007, 0.0008, 0.0009,0.001, 0.0011, 0.0012, 0.0013, 0.0014, 0.0015]\n",
    "param_range_2 = [9.5, 9.6, 9.7, 9.8, 9.9, 10, 10.1, 10.2, 10.3, 10.4, 10.5, 1, 2, 3, 4, 4.5, 4.6, 4.7, 4.8, 4.9, 5, 5.1, 5.2, 5.3, 5.4, 5.5]\n",
    "\n",
    "hyperparameters_svm_2=[{'kernel': ['linear'], 'gamma': param_range_2, 'C': param_range_2, 'shrinking' : [True, False], 'decision_function_shape':['ovo', 'ovr'], 'random_state': [19]},\n",
    "                                    {'kernel': ['linear'], 'gamma': ['auto', 'scaled'],  'C': param_range_2, 'shrinking' : [True, False], 'decision_function_shape':['ovo', 'ovr'],'random_state': [19]}] "
   ]
  },
  {
   "cell_type": "code",
   "execution_count": 98,
   "metadata": {},
   "outputs": [
    {
     "name": "stderr",
     "output_type": "stream",
     "text": [
      "[Parallel(n_jobs=3)]: Using backend LokyBackend with 3 concurrent workers.\n"
     ]
    },
    {
     "name": "stdout",
     "output_type": "stream",
     "text": [
      "Fitting 10 folds for each of 2912 candidates, totalling 29120 fits\n"
     ]
    },
    {
     "name": "stderr",
     "output_type": "stream",
     "text": [
      "[Parallel(n_jobs=3)]: Done 470 tasks      | elapsed:    2.6s\n",
      "[Parallel(n_jobs=3)]: Done 2406 tasks      | elapsed:   12.3s\n",
      "[Parallel(n_jobs=3)]: Done 5654 tasks      | elapsed:   28.9s\n",
      "[Parallel(n_jobs=3)]: Done 10182 tasks      | elapsed:   52.1s\n",
      "[Parallel(n_jobs=3)]: Done 16022 tasks      | elapsed:  1.3min\n",
      "[Parallel(n_jobs=3)]: Done 23142 tasks      | elapsed:  1.8min\n"
     ]
    },
    {
     "name": "stdout",
     "output_type": "stream",
     "text": [
      "--> Tuned Parameters Best Score:  0.8805434303350971\n",
      "--> Best Parameters: \n",
      " {'C': 4.9, 'decision_function_shape': 'ovo', 'gamma': 9.5, 'kernel': 'linear', 'random_state': 19, 'shrinking': True}\n"
     ]
    },
    {
     "name": "stderr",
     "output_type": "stream",
     "text": [
      "[Parallel(n_jobs=3)]: Done 29120 out of 29120 | elapsed:  2.1min finished\n"
     ]
    }
   ],
   "source": [
    "svm_gscv = GridSearchCV(estimator = SVC(),\n",
    "                   param_grid = hyperparameters_svm_2,\n",
    "                   n_jobs=3,\n",
    "                   scoring='roc_auc',\n",
    "                   verbose=2,\n",
    "                   cv=10)\n",
    "\n",
    "svm_gsCV = svm_gscv.fit(svm_X_train, svm_y_train)\n",
    "print('--> Tuned Parameters Best Score: ',svm_gsCV.best_score_)\n",
    "print('--> Best Parameters: \\n',svm_gsCV.best_params_)"
   ]
  },
  {
   "cell_type": "code",
   "execution_count": 99,
   "metadata": {},
   "outputs": [],
   "source": [
    "#param_range = [0.001, 0.01, 0.1, 1.0, 10.0, 100.0, 1000.0]   \n",
    "#param_range_1 = [5, 6, 7, 8, 9, 10, 11, 12, 13, 14, 15, 0.0005, 0.0006, 0.0007, 0.0008, 0.0009,0.001, 0.0011, 0.0012, 0.0013, 0.0014, 0.0015]\n",
    "#param_range_2 = [9.5, 9.6, 9.7, 9.8, 9.9, 10, 10.1, 10.2, 10.3, 10.4, 10.5, 1, 2, 3, 4, 4.5, 4.6, 4.7, 4.8, 4.9, 5, 5.1, 5.2, 5.3, 5.4, 5.5]\n",
    "param_range_3 = [4.85, 4.86, 4.87, 4.88, 4.89, 4.9, 4.91, 4.92, 4.93, 4.94, 4.95, 9, 9.1, 9.2, 9.3, 9.4, 9.45, 9.46, 9.47, 9.48, 9.49, 9.5, 9.51, 9.52, 9.53, 9.54, 9.55]\n",
    "\n",
    "hyperparameters_svm_3=[{'kernel': ['linear'], 'gamma': param_range_3, 'C': param_range_3, 'shrinking' : [True, False], 'decision_function_shape':['ovo', 'ovr'], 'random_state': [19]},\n",
    "                                    {'kernel': ['linear'], 'gamma': ['auto', 'scaled'],  'C': param_range_3, 'shrinking' : [True, False], 'decision_function_shape':['ovo', 'ovr'],'random_state': [19]}] "
   ]
  },
  {
   "cell_type": "code",
   "execution_count": 100,
   "metadata": {},
   "outputs": [
    {
     "name": "stderr",
     "output_type": "stream",
     "text": [
      "[Parallel(n_jobs=3)]: Using backend LokyBackend with 3 concurrent workers.\n"
     ]
    },
    {
     "name": "stdout",
     "output_type": "stream",
     "text": [
      "Fitting 10 folds for each of 3132 candidates, totalling 31320 fits\n"
     ]
    },
    {
     "name": "stderr",
     "output_type": "stream",
     "text": [
      "[Parallel(n_jobs=3)]: Done 702 tasks      | elapsed:    3.1s\n",
      "[Parallel(n_jobs=3)]: Done 2622 tasks      | elapsed: 37.8min\n",
      "[Parallel(n_jobs=3)]: Done 5058 tasks      | elapsed: 38.1min\n",
      "[Parallel(n_jobs=3)]: Done 8454 tasks      | elapsed: 38.4min\n",
      "[Parallel(n_jobs=3)]: Done 12834 tasks      | elapsed: 38.8min\n",
      "[Parallel(n_jobs=3)]: Done 18174 tasks      | elapsed: 39.4min\n",
      "[Parallel(n_jobs=3)]: Done 24498 tasks      | elapsed: 40.0min\n"
     ]
    },
    {
     "name": "stdout",
     "output_type": "stream",
     "text": [
      "--> Tuned Parameters Best Score:  0.8805434303350971\n",
      "--> Best Parameters: \n",
      " {'C': 4.9, 'decision_function_shape': 'ovo', 'gamma': 4.85, 'kernel': 'linear', 'random_state': 19, 'shrinking': True}\n"
     ]
    },
    {
     "name": "stderr",
     "output_type": "stream",
     "text": [
      "[Parallel(n_jobs=3)]: Done 31320 out of 31320 | elapsed: 40.4min finished\n"
     ]
    }
   ],
   "source": [
    "svm_gscv = GridSearchCV(estimator = SVC(),\n",
    "                   param_grid = hyperparameters_svm_3,\n",
    "                   n_jobs=3,\n",
    "                   scoring='roc_auc',\n",
    "                   verbose=2,\n",
    "                   cv=10)\n",
    "\n",
    "svm_gsCV = svm_gscv.fit(svm_X_train, svm_y_train)\n",
    "print('--> Tuned Parameters Best Score: ',svm_gsCV.best_score_) #same as the above one -> choose one\n",
    "print('--> Best Parameters: \\n',svm_gsCV.best_params_)"
   ]
  },
  {
   "cell_type": "code",
   "execution_count": 101,
   "metadata": {},
   "outputs": [],
   "source": [
    "best_svm  = SVC(C = 4.9,\n",
    "                        decision_function_shape = 'ovo',\n",
    "                        gamma = 9.5, #or 4.85\n",
    "                        kernel = 'linear',\n",
    "                        random_state = 19,\n",
    "                        shrinking = True,\n",
    "                        probability = True)\n",
    "\n",
    "best_svm.fit(svm_X_train, svm_y_train)  \n",
    "\n",
    "best_svm_training_prediction = best_svm.predict(svm_X_train)\n",
    "\n",
    "best_svm_testing_prediction = best_svm.predict(svm_X_test)\n",
    "#best_rf_testing_prediction"
   ]
  },
  {
   "cell_type": "code",
   "execution_count": 102,
   "metadata": {},
   "outputs": [
    {
     "data": {
      "text/plain": [
       "SVC(C=4.9, break_ties=False, cache_size=200, class_weight=None, coef0=0.0,\n",
       "    decision_function_shape='ovo', degree=3, gamma=9.5, kernel='linear',\n",
       "    max_iter=-1, probability=True, random_state=19, shrinking=True, tol=0.001,\n",
       "    verbose=False)"
      ]
     },
     "execution_count": 102,
     "metadata": {},
     "output_type": "execute_result"
    }
   ],
   "source": [
    "best_svm"
   ]
  },
  {
   "cell_type": "code",
   "execution_count": 103,
   "metadata": {},
   "outputs": [
    {
     "name": "stdout",
     "output_type": "stream",
     "text": [
      "Evaluation parameters on training data:\n",
      "\n",
      "\n",
      "Accuracy: 0.8039\n",
      "AUC: 0.8039\n",
      "Precision: 0.8917\n",
      "Recall: 0.6919\n",
      "F1: 0.7792\n",
      "\n",
      "\n",
      "Confusion Matrix\n",
      "[[327  30]\n",
      " [110 247]]\n"
     ]
    },
    {
     "data": {
      "image/png": "[encoded data removed]",
      "text/plain": [
       "<Figure size 360x360 with 1 Axes>"
      ]
     },
     "metadata": {
      "needs_background": "light"
     },
     "output_type": "display_data"
    }
   ],
   "source": [
    "training_metrics(best_svm, svm_X_train, svm_y_train, best_svm_training_prediction)"
   ]
  },
  {
   "cell_type": "code",
   "execution_count": 104,
   "metadata": {},
   "outputs": [
    {
     "data": {
      "text/plain": [
       "(247, 110, 30, 327)"
      ]
     },
     "execution_count": 104,
     "metadata": {},
     "output_type": "execute_result"
    }
   ],
   "source": [
    "tn, fp, fn, tp = confusion_matrix(svm_y_train, best_svm_training_prediction).ravel()\n",
    "(tp, fn, fp, tn)"
   ]
  },
  {
   "cell_type": "code",
   "execution_count": 105,
   "metadata": {},
   "outputs": [
    {
     "name": "stdout",
     "output_type": "stream",
     "text": [
      "Evaluation parameters on testing data:\n",
      "\n",
      "\n",
      "Accuracy: 0.8345\n",
      "AUC: 0.8252\n",
      "Precision: 0.9029\n",
      "Recall: 0.7154\n",
      "F1: 0.7983\n",
      "\n",
      "\n",
      "Confusion Matrix\n",
      "[[144  10]\n",
      " [ 37  93]]\n"
     ]
    },
    {
     "data": {
      "image/png": "[encoded data removed]",
      "text/plain": [
       "<Figure size 360x360 with 1 Axes>"
      ]
     },
     "metadata": {
      "needs_background": "light"
     },
     "output_type": "display_data"
    }
   ],
   "source": [
    "testing_metrics(best_svm, svm_X_test, svm_y_test, best_svm_testing_prediction)"
   ]
  },
  {
   "cell_type": "code",
   "execution_count": 106,
   "metadata": {},
   "outputs": [
    {
     "data": {
      "text/plain": [
       "(93, 37, 10, 144)"
      ]
     },
     "execution_count": 106,
     "metadata": {},
     "output_type": "execute_result"
    }
   ],
   "source": [
    "tn, fp, fn, tp = confusion_matrix(svm_y_test, best_svm_testing_prediction).ravel()\n",
    "(tp, fn, fp, tn)"
   ]
  },
  {
   "cell_type": "markdown",
   "metadata": {},
   "source": [
    "### Sensitivity Analysis"
   ]
  },
  {
   "cell_type": "code",
   "execution_count": 107,
   "metadata": {},
   "outputs": [],
   "source": [
    "sens_svm  = SVC(C = 25,\n",
    "                        decision_function_shape = 'ovo',\n",
    "                        gamma = 9.5,\n",
    "                        kernel = 'linear',\n",
    "                        random_state = 19,\n",
    "                        shrinking = True,\n",
    "                        probability = True)\n",
    "\n",
    "sens_svm.fit(svm_X_train, svm_y_train)  \n",
    "\n",
    "sens_svm_training_prediction = sens_svm.predict(svm_X_train)\n",
    "\n",
    "sens_svm_testing_prediction = sens_svm.predict(svm_X_test)\n",
    "#snes_svm_testing_prediction"
   ]
  },
  {
   "cell_type": "code",
   "execution_count": 108,
   "metadata": {},
   "outputs": [
    {
     "data": {
      "text/plain": [
       "SVC(C=25, break_ties=False, cache_size=200, class_weight=None, coef0=0.0,\n",
       "    decision_function_shape='ovo', degree=3, gamma=9.5, kernel='linear',\n",
       "    max_iter=-1, probability=True, random_state=19, shrinking=True, tol=0.001,\n",
       "    verbose=False)"
      ]
     },
     "execution_count": 108,
     "metadata": {},
     "output_type": "execute_result"
    }
   ],
   "source": [
    "sens_svm"
   ]
  },
  {
   "cell_type": "code",
   "execution_count": 109,
   "metadata": {},
   "outputs": [
    {
     "name": "stdout",
     "output_type": "stream",
     "text": [
      "Evaluation parameters on training data:\n",
      "\n",
      "\n",
      "Accuracy: 0.8039\n",
      "AUC: 0.8039\n",
      "Precision: 0.8917\n",
      "Recall: 0.6919\n",
      "F1: 0.7792\n",
      "\n",
      "\n",
      "Confusion Matrix\n",
      "[[327  30]\n",
      " [110 247]]\n"
     ]
    },
    {
     "data": {
      "image/png": "[encoded data removed]",
      "text/plain": [
       "<Figure size 360x360 with 1 Axes>"
      ]
     },
     "metadata": {
      "needs_background": "light"
     },
     "output_type": "display_data"
    }
   ],
   "source": [
    "training_metrics(sens_svm, svm_X_train, svm_y_train, sens_svm_training_prediction)"
   ]
  },
  {
   "cell_type": "code",
   "execution_count": 110,
   "metadata": {},
   "outputs": [
    {
     "data": {
      "text/plain": [
       "(247, 110, 30, 327)"
      ]
     },
     "execution_count": 110,
     "metadata": {},
     "output_type": "execute_result"
    }
   ],
   "source": [
    "tn, fp, fn, tp = confusion_matrix(svm_y_train, sens_svm_training_prediction).ravel()\n",
    "(tp, fn, fp, tn)"
   ]
  },
  {
   "cell_type": "code",
   "execution_count": 111,
   "metadata": {},
   "outputs": [
    {
     "name": "stdout",
     "output_type": "stream",
     "text": [
      "Evaluation parameters on testing data:\n",
      "\n",
      "\n",
      "Accuracy: 0.8345\n",
      "AUC: 0.8252\n",
      "Precision: 0.9029\n",
      "Recall: 0.7154\n",
      "F1: 0.7983\n",
      "\n",
      "\n",
      "Confusion Matrix\n",
      "[[144  10]\n",
      " [ 37  93]]\n"
     ]
    },
    {
     "data": {
      "image/png": "[encoded data removed]",
      "text/plain": [
       "<Figure size 360x360 with 1 Axes>"
      ]
     },
     "metadata": {
      "needs_background": "light"
     },
     "output_type": "display_data"
    }
   ],
   "source": [
    "testing_metrics(sens_svm, svm_X_test, svm_y_test, sens_svm_testing_prediction)"
   ]
  },
  {
   "cell_type": "code",
   "execution_count": 112,
   "metadata": {},
   "outputs": [
    {
     "data": {
      "text/plain": [
       "(93, 37, 10, 144)"
      ]
     },
     "execution_count": 112,
     "metadata": {},
     "output_type": "execute_result"
    }
   ],
   "source": [
    "tn, fp, fn, tp = confusion_matrix(svm_y_test, sens_svm_testing_prediction).ravel()\n",
    "(tp, fn, fp, tn)"
   ]
  },
  {
   "cell_type": "code",
   "execution_count": 113,
   "metadata": {},
   "outputs": [],
   "source": [
    "sens_svm_1  = SVC(C = 4.9,\n",
    "                        decision_function_shape = 'ovo',\n",
    "                        gamma = 25,\n",
    "                        kernel = 'linear',\n",
    "                        random_state = 19,\n",
    "                        shrinking = True,\n",
    "                        probability = True)\n",
    "\n",
    "sens_svm_1.fit(svm_X_train, svm_y_train)  \n",
    "\n",
    "sens_svm_1_training_prediction = sens_svm_1.predict(svm_X_train)\n",
    "\n",
    "sens_svm_1_testing_prediction = sens_svm_1.predict(svm_X_test)\n",
    "#snes_svm_testing_prediction"
   ]
  },
  {
   "cell_type": "code",
   "execution_count": 114,
   "metadata": {},
   "outputs": [
    {
     "data": {
      "text/plain": [
       "SVC(C=4.9, break_ties=False, cache_size=200, class_weight=None, coef0=0.0,\n",
       "    decision_function_shape='ovo', degree=3, gamma=25, kernel='linear',\n",
       "    max_iter=-1, probability=True, random_state=19, shrinking=True, tol=0.001,\n",
       "    verbose=False)"
      ]
     },
     "execution_count": 114,
     "metadata": {},
     "output_type": "execute_result"
    }
   ],
   "source": [
    "sens_svm_1"
   ]
  },
  {
   "cell_type": "code",
   "execution_count": 115,
   "metadata": {},
   "outputs": [
    {
     "name": "stdout",
     "output_type": "stream",
     "text": [
      "Evaluation parameters on training data:\n",
      "\n",
      "\n",
      "Accuracy: 0.8039\n",
      "AUC: 0.8039\n",
      "Precision: 0.8917\n",
      "Recall: 0.6919\n",
      "F1: 0.7792\n",
      "\n",
      "\n",
      "Confusion Matrix\n",
      "[[327  30]\n",
      " [110 247]]\n"
     ]
    },
    {
     "data": {
      "image/png": "[encoded data removed]",
      "text/plain": [
       "<Figure size 360x360 with 1 Axes>"
      ]
     },
     "metadata": {
      "needs_background": "light"
     },
     "output_type": "display_data"
    }
   ],
   "source": [
    "training_metrics(sens_svm_1, svm_X_train, svm_y_train, sens_svm_1_training_prediction)"
   ]
  },
  {
   "cell_type": "code",
   "execution_count": 116,
   "metadata": {},
   "outputs": [
    {
     "data": {
      "text/plain": [
       "(247, 110, 30, 327)"
      ]
     },
     "execution_count": 116,
     "metadata": {},
     "output_type": "execute_result"
    }
   ],
   "source": [
    "tn, fp, fn, tp = confusion_matrix(svm_y_train, sens_svm_1_training_prediction).ravel()\n",
    "(tp, fn, fp, tn)"
   ]
  },
  {
   "cell_type": "code",
   "execution_count": 117,
   "metadata": {},
   "outputs": [
    {
     "name": "stdout",
     "output_type": "stream",
     "text": [
      "Evaluation parameters on testing data:\n",
      "\n",
      "\n",
      "Accuracy: 0.8345\n",
      "AUC: 0.8252\n",
      "Precision: 0.9029\n",
      "Recall: 0.7154\n",
      "F1: 0.7983\n",
      "\n",
      "\n",
      "Confusion Matrix\n",
      "[[144  10]\n",
      " [ 37  93]]\n"
     ]
    },
    {
     "data": {
      "image/png": "[encoded data removed]",
      "text/plain": [
       "<Figure size 360x360 with 1 Axes>"
      ]
     },
     "metadata": {
      "needs_background": "light"
     },
     "output_type": "display_data"
    }
   ],
   "source": [
    "testing_metrics(sens_svm_1, svm_X_test, svm_y_test, sens_svm_1_testing_prediction)"
   ]
  },
  {
   "cell_type": "code",
   "execution_count": 118,
   "metadata": {},
   "outputs": [
    {
     "data": {
      "text/plain": [
       "(93, 37, 10, 144)"
      ]
     },
     "execution_count": 118,
     "metadata": {},
     "output_type": "execute_result"
    }
   ],
   "source": [
    "tn, fp, fn, tp = confusion_matrix(svm_y_test, sens_svm_1_testing_prediction).ravel()\n",
    "(tp, fn, fp, tn)"
   ]
  },
  {
   "cell_type": "code",
   "execution_count": null,
   "metadata": {},
   "outputs": [],
   "source": []
  }
 ],
 "metadata": {
  "kernelspec": {
   "display_name": "Python 3",
   "language": "python",
   "name": "python3"
  },
  "language_info": {
   "codemirror_mode": {
    "name": "ipython",
    "version": 3
   },
   "file_extension": ".py",
   "mimetype": "text/x-python",
   "name": "python",
   "nbconvert_exporter": "python",
   "pygments_lexer": "ipython3",
   "version": "3.7.3"
  }
 },
 "nbformat": 4,
 "nbformat_minor": 2
}
